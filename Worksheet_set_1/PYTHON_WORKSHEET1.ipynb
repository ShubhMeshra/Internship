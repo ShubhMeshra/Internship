{
 "cells": [
  {
   "cell_type": "markdown",
   "id": "f5292d56",
   "metadata": {},
   "source": [
    "Write a python program to find the factorial of a number."
   ]
  },
  {
   "cell_type": "code",
   "execution_count": null,
   "id": "eaf47d8a",
   "metadata": {},
   "outputs": [],
   "source": [
    "fact = 1\n",
    "num = int (input ('Enter the number:'))\n",
    "org= num\n",
    "while num > 0:\n",
    "    fact = fact* num\n",
    "    num = num-1\n",
    "print (\"The factorial of\", org, 'is', fact) "
   ]
  },
  {
   "cell_type": "markdown",
   "id": "b50528d1",
   "metadata": {},
   "source": [
    "Write a python program to find whether a number is prime or composite."
   ]
  },
  {
   "cell_type": "code",
   "execution_count": null,
   "id": "6038d1ed",
   "metadata": {},
   "outputs": [],
   "source": [
    "num = int(input(\"Enter a number: \"))\n",
    "\n",
    "if num > 1:\n",
    "    for i in range(2, num):\n",
    "        if num % i == 0:\n",
    "            print (num,\"is not a prime number\")\n",
    "        break\n",
    "    else:\n",
    "        print(num,\"is a prime number\")\n",
    "elif num == 0 or num == 1:\n",
    "    print(num, \" is composit number\")\n",
    "\n"
   ]
  },
  {
   "cell_type": "markdown",
   "id": "d878307a",
   "metadata": {},
   "source": [
    "Write a python program to check whether a given string is palindrome or not."
   ]
  },
  {
   "cell_type": "code",
   "execution_count": null,
   "id": "e5c5737b",
   "metadata": {},
   "outputs": [],
   "source": [
    "a= input (\"Enter String \")\n",
    "b=a [-1::-11]\n",
    "if (a==b):\n",
    "    print(\"palindrome string\")\n",
    "else:\n",
    "    print (\"Not a Palindrome String\")\n"
   ]
  },
  {
   "cell_type": "markdown",
   "id": "05b9c0d5",
   "metadata": {},
   "source": [
    "Write a Python program to get the third side of right-angled triangle from two given sides"
   ]
  },
  {
   "cell_type": "code",
   "execution_count": null,
   "id": "b6d8dc38",
   "metadata": {},
   "outputs": [],
   "source": [
    "import math\n",
    "a = float(input(\"Give side a: \"))\n",
    "b = float(input(\"Give side b: \"))\n",
    "c = math.sqrt(a ** 2 + b ** 2)\n",
    "print(f\"The length of the hypotenuse c is {c}\")"
   ]
  },
  {
   "cell_type": "code",
   "execution_count": null,
   "id": "ec138732",
   "metadata": {},
   "outputs": [],
   "source": []
  },
  {
   "cell_type": "code",
   "execution_count": null,
   "id": "9b458a88",
   "metadata": {},
   "outputs": [],
   "source": []
  }
 ],
 "metadata": {
  "kernelspec": {
   "display_name": "Python 3",
   "language": "python",
   "name": "python3"
  },
  "language_info": {
   "codemirror_mode": {
    "name": "ipython",
    "version": 3
   },
   "file_extension": ".py",
   "mimetype": "text/x-python",
   "name": "python",
   "nbconvert_exporter": "python",
   "pygments_lexer": "ipython3",
   "version": "3.8.8"
  }
 },
 "nbformat": 4,
 "nbformat_minor": 5
}
