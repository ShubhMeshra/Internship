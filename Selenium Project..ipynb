{
 "cells": [
  {
   "cell_type": "code",
   "execution_count": 1,
   "id": "26834409",
   "metadata": {
    "scrolled": true
   },
   "outputs": [
    {
     "name": "stdout",
     "output_type": "stream",
     "text": [
      "Collecting selenium\n",
      "  Downloading selenium-4.1.0-py3-none-any.whl (958 kB)\n",
      "Collecting trio~=0.17\n",
      "  Downloading trio-0.19.0-py3-none-any.whl (356 kB)\n",
      "Requirement already satisfied: urllib3[secure]~=1.26 in c:\\programdata\\anaconda3\\lib\\site-packages (from selenium) (1.26.4)\n",
      "Collecting trio-websocket~=0.9\n",
      "  Downloading trio_websocket-0.9.2-py3-none-any.whl (16 kB)\n",
      "Requirement already satisfied: async-generator>=1.9 in c:\\programdata\\anaconda3\\lib\\site-packages (from trio~=0.17->selenium) (1.10)\n",
      "Requirement already satisfied: cffi>=1.14 in c:\\programdata\\anaconda3\\lib\\site-packages (from trio~=0.17->selenium) (1.14.5)\n",
      "Requirement already satisfied: sortedcontainers in c:\\programdata\\anaconda3\\lib\\site-packages (from trio~=0.17->selenium) (2.3.0)\n",
      "Collecting outcome\n",
      "  Downloading outcome-1.1.0-py2.py3-none-any.whl (9.7 kB)\n",
      "Requirement already satisfied: idna in c:\\programdata\\anaconda3\\lib\\site-packages (from trio~=0.17->selenium) (2.10)\n",
      "Requirement already satisfied: sniffio in c:\\programdata\\anaconda3\\lib\\site-packages (from trio~=0.17->selenium) (1.2.0)\n",
      "Requirement already satisfied: attrs>=19.2.0 in c:\\programdata\\anaconda3\\lib\\site-packages (from trio~=0.17->selenium) (20.3.0)\n",
      "Requirement already satisfied: pycparser in c:\\programdata\\anaconda3\\lib\\site-packages (from cffi>=1.14->trio~=0.17->selenium) (2.20)\n",
      "Collecting wsproto>=0.14\n",
      "  Downloading wsproto-1.0.0-py3-none-any.whl (24 kB)\n",
      "Requirement already satisfied: cryptography>=1.3.4 in c:\\programdata\\anaconda3\\lib\\site-packages (from urllib3[secure]~=1.26->selenium) (3.4.7)\n",
      "Requirement already satisfied: certifi in c:\\programdata\\anaconda3\\lib\\site-packages (from urllib3[secure]~=1.26->selenium) (2020.12.5)\n",
      "Requirement already satisfied: pyOpenSSL>=0.14 in c:\\programdata\\anaconda3\\lib\\site-packages (from urllib3[secure]~=1.26->selenium) (20.0.1)\n",
      "Requirement already satisfied: six>=1.5.2 in c:\\programdata\\anaconda3\\lib\\site-packages (from pyOpenSSL>=0.14->urllib3[secure]~=1.26->selenium) (1.15.0)\n",
      "Collecting h11<1,>=0.9.0\n",
      "  Downloading h11-0.13.0-py3-none-any.whl (58 kB)\n",
      "Installing collected packages: outcome, h11, wsproto, trio, trio-websocket, selenium\n",
      "Successfully installed h11-0.13.0 outcome-1.1.0 selenium-4.1.0 trio-0.19.0 trio-websocket-0.9.2 wsproto-1.0.0\n"
     ]
    }
   ],
   "source": [
    "!pip install selenium"
   ]
  },
  {
   "cell_type": "code",
   "execution_count": 91,
   "id": "e6314c88",
   "metadata": {},
   "outputs": [],
   "source": [
    "#importing necessarry libraries\n",
    "import selenium\n",
    "from selenium import webdriver\n",
    "import pandas as pd\n",
    "\n",
    "import warnings\n",
    "warnings.filterwarnings('ignore')"
   ]
  },
  {
   "cell_type": "code",
   "execution_count": null,
   "id": "37ce83f4",
   "metadata": {},
   "outputs": [],
   "source": []
  },
  {
   "cell_type": "code",
   "execution_count": 92,
   "id": "8a241547",
   "metadata": {},
   "outputs": [],
   "source": [
    "driver = webdriver.Chrome(r'C:\\Users\\91797\\Desktop\\chromedriver_win32\\chromedriver.exe')"
   ]
  },
  {
   "cell_type": "code",
   "execution_count": 93,
   "id": "1fe3f78a",
   "metadata": {},
   "outputs": [],
   "source": [
    "url= 'https://www.naukri.com/'\n",
    "driver.get(url)"
   ]
  },
  {
   "cell_type": "code",
   "execution_count": 94,
   "id": "62433446",
   "metadata": {},
   "outputs": [
    {
     "data": {
      "text/plain": [
       "<selenium.webdriver.remote.webelement.WebElement (session=\"81aed7e2c32f16645ca3970f165c1250\", element=\"d9fc8d25-c6ed-445d-904e-4776464662ce\")>"
      ]
     },
     "execution_count": 94,
     "metadata": {},
     "output_type": "execute_result"
    }
   ],
   "source": [
    "# finding web element for search job bar using class name\n",
    "search_job = driver.find_element_by_class_name('suggestor-input')\n",
    "search_job"
   ]
  },
  {
   "cell_type": "code",
   "execution_count": 95,
   "id": "7ae6f392",
   "metadata": {},
   "outputs": [],
   "source": [
    "#write on search bar\n",
    "search_job.send_keys('Data Analyst')"
   ]
  },
  {
   "cell_type": "code",
   "execution_count": 96,
   "id": "8699e656",
   "metadata": {},
   "outputs": [
    {
     "data": {
      "text/plain": [
       "<selenium.webdriver.remote.webelement.WebElement (session=\"81aed7e2c32f16645ca3970f165c1250\", element=\"81ac165e-3f70-4710-8bc6-655bb07b690f\")>"
      ]
     },
     "execution_count": 96,
     "metadata": {},
     "output_type": "execute_result"
    }
   ],
   "source": [
    "#finding web element for search location using absolute xpath\n",
    "search_locn=driver.find_element_by_xpath('/html/body/div/div[2]/div[3]/div/div/div[3]/div/div/div/input')\n",
    "search_locn"
   ]
  },
  {
   "cell_type": "code",
   "execution_count": 97,
   "id": "20254908",
   "metadata": {},
   "outputs": [],
   "source": [
    "#finding web element for search location bar\n",
    "search_locn.send_keys('banglore')"
   ]
  },
  {
   "cell_type": "code",
   "execution_count": 99,
   "id": "9a9bf0f5",
   "metadata": {},
   "outputs": [
    {
     "data": {
      "text/plain": [
       "<selenium.webdriver.remote.webelement.WebElement (session=\"81aed7e2c32f16645ca3970f165c1250\", element=\"33991245-5d37-433e-9eb9-b945b76e7562\")>"
      ]
     },
     "execution_count": 99,
     "metadata": {},
     "output_type": "execute_result"
    }
   ],
   "source": [
    "#clicking using class name function\n",
    "search_btn=driver.find_element_by_class_name('qsbSubmit')\n",
    "search_btn"
   ]
  },
  {
   "cell_type": "code",
   "execution_count": 100,
   "id": "adff62ea",
   "metadata": {},
   "outputs": [],
   "source": [
    "search_btn.click()"
   ]
  },
  {
   "cell_type": "markdown",
   "id": "4086f06d",
   "metadata": {},
   "source": [
    "Q1: Write a python program to scrape data for “Data Analyst” Job position in “Bangalore” location. You\n",
    "have to scrape the job-title, job-location, company_name, experience_required. You have to scrape first 10\n",
    "jobs data."
   ]
  },
  {
   "cell_type": "code",
   "execution_count": 201,
   "id": "a35557f9",
   "metadata": {},
   "outputs": [],
   "source": [
    "# Extracting job results"
   ]
  },
  {
   "cell_type": "code",
   "execution_count": 101,
   "id": "24cf4321",
   "metadata": {},
   "outputs": [
    {
     "data": {
      "text/plain": [
       "20"
      ]
     },
     "execution_count": 101,
     "metadata": {},
     "output_type": "execute_result"
    }
   ],
   "source": [
    "#lets extracts all the web element having job title\n",
    "title_tags = driver.find_elements_by_xpath('//a[@class=\"title fw500 ellipsis\"]')\n",
    "len(title_tags)"
   ]
  },
  {
   "cell_type": "code",
   "execution_count": 114,
   "id": "a1535e98",
   "metadata": {},
   "outputs": [
    {
     "data": {
      "text/plain": [
       "20"
      ]
     },
     "execution_count": 114,
     "metadata": {},
     "output_type": "execute_result"
    }
   ],
   "source": [
    "#now text of the job title is inside the web element extracted above\n",
    "#so we will run for loop to iterate over the tags and will extracts text from them\n",
    "job_titles=[]\n",
    "\n",
    "for i in title_tags:\n",
    "    job_titles.append(i.text)\n",
    "len(job_titles)\n"
   ]
  },
  {
   "cell_type": "code",
   "execution_count": 115,
   "id": "919e43ee",
   "metadata": {},
   "outputs": [
    {
     "data": {
      "text/plain": [
       "['Hiring -Data Analyst, Business Analyst, MIS Analyst -3rd Party Payroll',\n",
       " 'Data Analyst',\n",
       " 'Business Analyst (Data Analyst role)',\n",
       " 'Senior Analyst, Data Engineering',\n",
       " 'Business Data Analyst - MIS & Reporting',\n",
       " 'Data Analyst',\n",
       " 'Job Opportunity with Leading MNC - Senior Data Analyst',\n",
       " 'Analyst - Data Intelligence Group',\n",
       " 'Insights Data analyst',\n",
       " 'Data Analyst',\n",
       " 'Business Analyst (Data Analyst)',\n",
       " 'Business Analyst/ Data Analyst- Capital Market & SQL (Mandatory)',\n",
       " 'Senior Data Analyst',\n",
       " 'Data Analyst',\n",
       " 'Data Analyst',\n",
       " 'Data Analyst / Data visualization',\n",
       " 'Principal IT Data Analyst - Azure + Databrics',\n",
       " 'Data Analyst',\n",
       " 'Data Analyst',\n",
       " 'Associate Data Analyst']"
      ]
     },
     "execution_count": 115,
     "metadata": {},
     "output_type": "execute_result"
    }
   ],
   "source": [
    "job_titles"
   ]
  },
  {
   "cell_type": "code",
   "execution_count": 116,
   "id": "969336cd",
   "metadata": {},
   "outputs": [
    {
     "data": {
      "text/plain": [
       "20"
      ]
     },
     "execution_count": 116,
     "metadata": {},
     "output_type": "execute_result"
    }
   ],
   "source": [
    "#lets exytract the company name from the web element\n",
    "company_tags = driver.find_elements_by_xpath('//a[@class=\"subTitle ellipsis fleft\"]')\n",
    "len(company_tags)"
   ]
  },
  {
   "cell_type": "code",
   "execution_count": 117,
   "id": "1f98228d",
   "metadata": {},
   "outputs": [
    {
     "data": {
      "text/plain": [
       "20"
      ]
     },
     "execution_count": 117,
     "metadata": {},
     "output_type": "execute_result"
    }
   ],
   "source": [
    "\n",
    "company_name=[]\n",
    "\n",
    "for i in company_tags:\n",
    "    company_name.append(i.text)\n",
    "len(company_name)"
   ]
  },
  {
   "cell_type": "code",
   "execution_count": 118,
   "id": "a871c3f5",
   "metadata": {},
   "outputs": [
    {
     "data": {
      "text/plain": [
       "['Flipkart',\n",
       " 'Shell',\n",
       " 'Xpheno',\n",
       " 'Dell',\n",
       " 'SHAND PIPE INDUSTRY PVT.LTD',\n",
       " 'THBS',\n",
       " 'Enrich and Enlight',\n",
       " 'TresVista Financial',\n",
       " 'Tide Software',\n",
       " 'Shell',\n",
       " 'Genpact',\n",
       " 'Genpact',\n",
       " 'Liventus Technology Services',\n",
       " 'McAfee',\n",
       " 'FedEx Express',\n",
       " 'CURise Analytics Pvt. Ltd.',\n",
       " 'Syneos Health',\n",
       " 'FEDEX EXPRESS TRANSPORTATION AND SUPPLY CHAIN SERV ICES (I) PRIVATE LIMITED',\n",
       " 'Ensar Solutions Pvt Ltd',\n",
       " 'Optum']"
      ]
     },
     "execution_count": 118,
     "metadata": {},
     "output_type": "execute_result"
    }
   ],
   "source": [
    "company_name"
   ]
  },
  {
   "cell_type": "code",
   "execution_count": 119,
   "id": "30f83113",
   "metadata": {},
   "outputs": [
    {
     "data": {
      "text/plain": [
       "20"
      ]
     },
     "execution_count": 119,
     "metadata": {},
     "output_type": "execute_result"
    }
   ],
   "source": [
    "#lets extract the experience required\n",
    "experience_tags = driver.find_elements_by_xpath\n",
    "\n",
    "len(experience_tags)"
   ]
  },
  {
   "cell_type": "code",
   "execution_count": 120,
   "id": "c2d817f8",
   "metadata": {},
   "outputs": [
    {
     "data": {
      "text/plain": [
       "20"
      ]
     },
     "execution_count": 120,
     "metadata": {},
     "output_type": "execute_result"
    }
   ],
   "source": [
    "experience=[]\n",
    "\n",
    "for i in experience_tags:\n",
    "    experience.append(i.text)\n",
    "len(experience)"
   ]
  },
  {
   "cell_type": "code",
   "execution_count": 121,
   "id": "4364ea89",
   "metadata": {},
   "outputs": [
    {
     "data": {
      "text/plain": [
       "['1-6 Yrs',\n",
       " '4-7 Yrs',\n",
       " '2-5 Yrs',\n",
       " '2-5 Yrs',\n",
       " '2-6 Yrs',\n",
       " '1-4 Yrs',\n",
       " '5-7 Yrs',\n",
       " '0-1 Yrs',\n",
       " '0-4 Yrs',\n",
       " '5-8 Yrs',\n",
       " '6-10 Yrs',\n",
       " '7-12 Yrs',\n",
       " '5-8 Yrs',\n",
       " '2-7 Yrs',\n",
       " '2-6 Yrs',\n",
       " '1-5 Yrs',\n",
       " '7-12 Yrs',\n",
       " '2-6 Yrs',\n",
       " '3-7 Yrs',\n",
       " '4-9 Yrs']"
      ]
     },
     "execution_count": 121,
     "metadata": {},
     "output_type": "execute_result"
    }
   ],
   "source": [
    "experience"
   ]
  },
  {
   "cell_type": "code",
   "execution_count": 122,
   "id": "05b5a867",
   "metadata": {},
   "outputs": [
    {
     "data": {
      "text/plain": [
       "20"
      ]
     },
     "execution_count": 122,
     "metadata": {},
     "output_type": "execute_result"
    }
   ],
   "source": [
    "#extracting salary \n",
    "salary_tags = driver.find_elements_by_xpath('//li[@class=\"fleft grey-text br2 placeHolderLi salary\"]')\n",
    "len(salary_tags)"
   ]
  },
  {
   "cell_type": "code",
   "execution_count": 123,
   "id": "72ad930b",
   "metadata": {},
   "outputs": [
    {
     "data": {
      "text/plain": [
       "20"
      ]
     },
     "execution_count": 123,
     "metadata": {},
     "output_type": "execute_result"
    }
   ],
   "source": [
    "salary=[]\n",
    "\n",
    "for i in salary_tags:\n",
    "    salary.append(i.text)\n",
    "len(salary)"
   ]
  },
  {
   "cell_type": "code",
   "execution_count": 124,
   "id": "3fd35419",
   "metadata": {},
   "outputs": [
    {
     "data": {
      "text/plain": [
       "['5,00,000 - 10,00,000 PA.',\n",
       " 'Not disclosed',\n",
       " 'Not disclosed',\n",
       " 'Not disclosed',\n",
       " 'Not disclosed',\n",
       " 'Not disclosed',\n",
       " 'Not disclosed',\n",
       " 'Not disclosed',\n",
       " 'Not disclosed',\n",
       " 'Not disclosed',\n",
       " 'Not disclosed',\n",
       " 'Not disclosed',\n",
       " '10,00,000 - 20,00,000 PA.',\n",
       " 'Not disclosed',\n",
       " '10,00,000 - 20,00,000 PA.',\n",
       " 'Not disclosed',\n",
       " 'Not disclosed',\n",
       " '6,00,000 - 16,00,000 PA.',\n",
       " '8,00,000 - 15,00,000 PA.',\n",
       " 'Not disclosed']"
      ]
     },
     "execution_count": 124,
     "metadata": {},
     "output_type": "execute_result"
    }
   ],
   "source": [
    "salary"
   ]
  },
  {
   "cell_type": "code",
   "execution_count": 127,
   "id": "185ad636",
   "metadata": {},
   "outputs": [
    {
     "data": {
      "text/plain": [
       "20"
      ]
     },
     "execution_count": 127,
     "metadata": {},
     "output_type": "execute_result"
    }
   ],
   "source": [
    "#extracting location\n",
    "location_tags = driver.find_elements_by_xpath('//li[@class=\"fleft grey-text br2 placeHolderLi location\"]')\n",
    "len(location_tags)"
   ]
  },
  {
   "cell_type": "code",
   "execution_count": 128,
   "id": "4601348e",
   "metadata": {},
   "outputs": [
    {
     "data": {
      "text/plain": [
       "20"
      ]
     },
     "execution_count": 128,
     "metadata": {},
     "output_type": "execute_result"
    }
   ],
   "source": [
    "location=[]\n",
    "\n",
    "for i in location_tags:\n",
    "    location.append(i.text)\n",
    "len(location)"
   ]
  },
  {
   "cell_type": "code",
   "execution_count": 132,
   "id": "b3b668fe",
   "metadata": {},
   "outputs": [
    {
     "data": {
      "text/plain": [
       "(20, 20, 20, 20, 20)"
      ]
     },
     "execution_count": 132,
     "metadata": {},
     "output_type": "execute_result"
    }
   ],
   "source": [
    "len(job_titles), len(company_name), len(experience), len(salary) , len(location)"
   ]
  },
  {
   "cell_type": "code",
   "execution_count": 133,
   "id": "763a6f8b",
   "metadata": {},
   "outputs": [
    {
     "data": {
      "text/html": [
       "<div>\n",
       "<style scoped>\n",
       "    .dataframe tbody tr th:only-of-type {\n",
       "        vertical-align: middle;\n",
       "    }\n",
       "\n",
       "    .dataframe tbody tr th {\n",
       "        vertical-align: top;\n",
       "    }\n",
       "\n",
       "    .dataframe thead th {\n",
       "        text-align: right;\n",
       "    }\n",
       "</style>\n",
       "<table border=\"1\" class=\"dataframe\">\n",
       "  <thead>\n",
       "    <tr style=\"text-align: right;\">\n",
       "      <th></th>\n",
       "      <th>job_titles</th>\n",
       "      <th>company_name</th>\n",
       "      <th>experience</th>\n",
       "      <th>location</th>\n",
       "      <th>salary</th>\n",
       "    </tr>\n",
       "  </thead>\n",
       "  <tbody>\n",
       "    <tr>\n",
       "      <th>0</th>\n",
       "      <td>Hiring -Data Analyst, Business Analyst, MIS An...</td>\n",
       "      <td>Flipkart</td>\n",
       "      <td>1-6 Yrs</td>\n",
       "      <td>Bangalore/Bengaluru</td>\n",
       "      <td>5,00,000 - 10,00,000 PA.</td>\n",
       "    </tr>\n",
       "    <tr>\n",
       "      <th>1</th>\n",
       "      <td>Data Analyst</td>\n",
       "      <td>Shell</td>\n",
       "      <td>4-7 Yrs</td>\n",
       "      <td>Bangalore/Bengaluru</td>\n",
       "      <td>Not disclosed</td>\n",
       "    </tr>\n",
       "    <tr>\n",
       "      <th>2</th>\n",
       "      <td>Business Analyst (Data Analyst role)</td>\n",
       "      <td>Xpheno</td>\n",
       "      <td>2-5 Yrs</td>\n",
       "      <td>Mumbai, Hyderabad/Secunderabad, Pune, Chennai,...</td>\n",
       "      <td>Not disclosed</td>\n",
       "    </tr>\n",
       "    <tr>\n",
       "      <th>3</th>\n",
       "      <td>Senior Analyst, Data Engineering</td>\n",
       "      <td>Dell</td>\n",
       "      <td>2-5 Yrs</td>\n",
       "      <td>Bangalore/Bengaluru</td>\n",
       "      <td>Not disclosed</td>\n",
       "    </tr>\n",
       "    <tr>\n",
       "      <th>4</th>\n",
       "      <td>Business Data Analyst - MIS &amp; Reporting</td>\n",
       "      <td>SHAND PIPE INDUSTRY PVT.LTD</td>\n",
       "      <td>2-6 Yrs</td>\n",
       "      <td>Bangalore/Bengaluru</td>\n",
       "      <td>Not disclosed</td>\n",
       "    </tr>\n",
       "    <tr>\n",
       "      <th>5</th>\n",
       "      <td>Data Analyst</td>\n",
       "      <td>THBS</td>\n",
       "      <td>1-4 Yrs</td>\n",
       "      <td>Bangalore/Bengaluru</td>\n",
       "      <td>Not disclosed</td>\n",
       "    </tr>\n",
       "    <tr>\n",
       "      <th>6</th>\n",
       "      <td>Job Opportunity with Leading MNC - Senior Data...</td>\n",
       "      <td>Enrich and Enlight</td>\n",
       "      <td>5-7 Yrs</td>\n",
       "      <td>Bangalore/Bengaluru</td>\n",
       "      <td>Not disclosed</td>\n",
       "    </tr>\n",
       "    <tr>\n",
       "      <th>7</th>\n",
       "      <td>Analyst - Data Intelligence Group</td>\n",
       "      <td>TresVista Financial</td>\n",
       "      <td>0-1 Yrs</td>\n",
       "      <td>Mumbai, Pune, Bangalore/Bengaluru</td>\n",
       "      <td>Not disclosed</td>\n",
       "    </tr>\n",
       "    <tr>\n",
       "      <th>8</th>\n",
       "      <td>Insights Data analyst</td>\n",
       "      <td>Tide Software</td>\n",
       "      <td>0-4 Yrs</td>\n",
       "      <td>Bangalore/Bengaluru</td>\n",
       "      <td>Not disclosed</td>\n",
       "    </tr>\n",
       "    <tr>\n",
       "      <th>9</th>\n",
       "      <td>Data Analyst</td>\n",
       "      <td>Shell</td>\n",
       "      <td>5-8 Yrs</td>\n",
       "      <td>Bangalore/Bengaluru</td>\n",
       "      <td>Not disclosed</td>\n",
       "    </tr>\n",
       "  </tbody>\n",
       "</table>\n",
       "</div>"
      ],
      "text/plain": [
       "                                          job_titles  \\\n",
       "0  Hiring -Data Analyst, Business Analyst, MIS An...   \n",
       "1                                       Data Analyst   \n",
       "2               Business Analyst (Data Analyst role)   \n",
       "3                   Senior Analyst, Data Engineering   \n",
       "4            Business Data Analyst - MIS & Reporting   \n",
       "5                                       Data Analyst   \n",
       "6  Job Opportunity with Leading MNC - Senior Data...   \n",
       "7                  Analyst - Data Intelligence Group   \n",
       "8                              Insights Data analyst   \n",
       "9                                       Data Analyst   \n",
       "\n",
       "                  company_name experience  \\\n",
       "0                     Flipkart    1-6 Yrs   \n",
       "1                        Shell    4-7 Yrs   \n",
       "2                       Xpheno    2-5 Yrs   \n",
       "3                         Dell    2-5 Yrs   \n",
       "4  SHAND PIPE INDUSTRY PVT.LTD    2-6 Yrs   \n",
       "5                         THBS    1-4 Yrs   \n",
       "6           Enrich and Enlight    5-7 Yrs   \n",
       "7          TresVista Financial    0-1 Yrs   \n",
       "8                Tide Software    0-4 Yrs   \n",
       "9                        Shell    5-8 Yrs   \n",
       "\n",
       "                                            location                    salary  \n",
       "0                                Bangalore/Bengaluru  5,00,000 - 10,00,000 PA.  \n",
       "1                                Bangalore/Bengaluru             Not disclosed  \n",
       "2  Mumbai, Hyderabad/Secunderabad, Pune, Chennai,...             Not disclosed  \n",
       "3                                Bangalore/Bengaluru             Not disclosed  \n",
       "4                                Bangalore/Bengaluru             Not disclosed  \n",
       "5                                Bangalore/Bengaluru             Not disclosed  \n",
       "6                                Bangalore/Bengaluru             Not disclosed  \n",
       "7                  Mumbai, Pune, Bangalore/Bengaluru             Not disclosed  \n",
       "8                                Bangalore/Bengaluru             Not disclosed  \n",
       "9                                Bangalore/Bengaluru             Not disclosed  "
      ]
     },
     "execution_count": 133,
     "metadata": {},
     "output_type": "execute_result"
    }
   ],
   "source": [
    "#creating the data frame\n",
    "jobs=pd.DataFrame()\n",
    "\n",
    "jobs['job_titles']=job_titles[:10]\n",
    "jobs['company_name']= company_name[:10]\n",
    "jobs['experience']=experience[:10]\n",
    "jobs['location']=location[:10]\n",
    "jobs['salary']=salary[:10]\n",
    "\n",
    "jobs\n"
   ]
  },
  {
   "cell_type": "markdown",
   "id": "c8cb95ec",
   "metadata": {},
   "source": [
    "Q2: Write a python program to scrape data for “Data Scientist” Job position in “Bangalore” location. You\n",
    "have to scrape the job-title, job-location, company_name. You have to scrape first 10 jobs data.\n",
    "This task will be done in following steps:"
   ]
  },
  {
   "cell_type": "code",
   "execution_count": 3,
   "id": "feca907e",
   "metadata": {},
   "outputs": [],
   "source": [
    "url= 'https://www.naukri.com/'\n",
    "driver.get(url)"
   ]
  },
  {
   "cell_type": "code",
   "execution_count": 4,
   "id": "0a1bfe37",
   "metadata": {},
   "outputs": [
    {
     "data": {
      "text/plain": [
       "<selenium.webdriver.remote.webelement.WebElement (session=\"aa0b6bf0dd92d4b039e43df9f4025780\", element=\"58cefbdb-6bfa-4c1b-8944-eab1313dd86e\")>"
      ]
     },
     "execution_count": 4,
     "metadata": {},
     "output_type": "execute_result"
    }
   ],
   "source": [
    "# finding web element for search job bar using class name\n",
    "search_job = driver.find_element_by_class_name('suggestor-input')\n",
    "search_job"
   ]
  },
  {
   "cell_type": "code",
   "execution_count": 5,
   "id": "df702f9f",
   "metadata": {},
   "outputs": [],
   "source": [
    "#write on search bar\n",
    "search_job.send_keys('Data Scientist')"
   ]
  },
  {
   "cell_type": "code",
   "execution_count": 6,
   "id": "d0e6dcd0",
   "metadata": {},
   "outputs": [
    {
     "data": {
      "text/plain": [
       "<selenium.webdriver.remote.webelement.WebElement (session=\"aa0b6bf0dd92d4b039e43df9f4025780\", element=\"c3da2d1a-7e23-4340-8162-06bc2de96db4\")>"
      ]
     },
     "execution_count": 6,
     "metadata": {},
     "output_type": "execute_result"
    }
   ],
   "source": [
    "#finding web element for search location using absolute xpath\n",
    "search_locn=driver.find_element_by_xpath('/html/body/div/div[2]/div[3]/div/div/div[3]/div/div/div/input')\n",
    "search_locn"
   ]
  },
  {
   "cell_type": "code",
   "execution_count": 7,
   "id": "cb761cf5",
   "metadata": {},
   "outputs": [],
   "source": [
    "#finding web element for search location bar\n",
    "search_locn.send_keys('banglore')"
   ]
  },
  {
   "cell_type": "code",
   "execution_count": 8,
   "id": "5c7960ce",
   "metadata": {},
   "outputs": [
    {
     "data": {
      "text/plain": [
       "<selenium.webdriver.remote.webelement.WebElement (session=\"aa0b6bf0dd92d4b039e43df9f4025780\", element=\"ddd40e6a-ea12-4fc9-a52e-aa6bae35ad91\")>"
      ]
     },
     "execution_count": 8,
     "metadata": {},
     "output_type": "execute_result"
    }
   ],
   "source": [
    "#clicking using class name function\n",
    "search_btn=driver.find_element_by_class_name('qsbSubmit')\n",
    "search_btn"
   ]
  },
  {
   "cell_type": "code",
   "execution_count": 9,
   "id": "dfeca902",
   "metadata": {},
   "outputs": [],
   "source": [
    "search_btn.click()"
   ]
  },
  {
   "cell_type": "markdown",
   "id": "621e2c30",
   "metadata": {},
   "source": [
    "Extracting Job Result"
   ]
  },
  {
   "cell_type": "code",
   "execution_count": 10,
   "id": "a9ee39aa",
   "metadata": {},
   "outputs": [
    {
     "data": {
      "text/plain": [
       "20"
      ]
     },
     "execution_count": 10,
     "metadata": {},
     "output_type": "execute_result"
    }
   ],
   "source": [
    "#lets extracts all the web element having job title\n",
    "title_tags = driver.find_elements_by_xpath('//a[@class=\"title fw500 ellipsis\"]')\n",
    "len(title_tags)"
   ]
  },
  {
   "cell_type": "code",
   "execution_count": 11,
   "id": "022c4ea3",
   "metadata": {},
   "outputs": [
    {
     "data": {
      "text/plain": [
       "20"
      ]
     },
     "execution_count": 11,
     "metadata": {},
     "output_type": "execute_result"
    }
   ],
   "source": [
    "#now text of the job title is inside the web element extracted above\n",
    "#so we will run for loop to iterate over the tags and will extracts text from them\n",
    "job_titles=[]\n",
    "\n",
    "for i in title_tags:\n",
    "    job_titles.append(i.text)\n",
    "len(job_titles)\n"
   ]
  },
  {
   "cell_type": "code",
   "execution_count": 12,
   "id": "671ca52d",
   "metadata": {},
   "outputs": [
    {
     "data": {
      "text/plain": [
       "['Data Scientist / Analyst',\n",
       " 'Senior Risk Data Scientist',\n",
       " 'Data Scientist: Advanced Analytics',\n",
       " 'Data Scientist: Advanced Analytics',\n",
       " 'Data Scientist',\n",
       " 'Data Scientist: Artificial Intelligence',\n",
       " 'Data Scientist: Artificial Intelligence',\n",
       " 'Senior Data Scientist - Advanced Analytics',\n",
       " 'Senior Data Scientist',\n",
       " 'Senior - Data Scientist',\n",
       " 'Data Scientist Openings with AT&T',\n",
       " 'Lead Data Scientist required For CU Rise Analytics',\n",
       " 'Senior Data Scientist',\n",
       " 'Data Scientist - Lead / Architect - Looking For Early Joiners - Wipro',\n",
       " 'Lead Data Scientist',\n",
       " 'Data Scientist',\n",
       " 'Data Scientist',\n",
       " 'Associate Data Scientist',\n",
       " 'Senior Data Scientist with Pyspark and Databricks German MNC',\n",
       " 'Data Scientist: Artificial Intelligence']"
      ]
     },
     "execution_count": 12,
     "metadata": {},
     "output_type": "execute_result"
    }
   ],
   "source": [
    "job_titles"
   ]
  },
  {
   "cell_type": "code",
   "execution_count": 13,
   "id": "f5442d96",
   "metadata": {},
   "outputs": [
    {
     "data": {
      "text/plain": [
       "20"
      ]
     },
     "execution_count": 13,
     "metadata": {},
     "output_type": "execute_result"
    }
   ],
   "source": [
    "#extracting location\n",
    "location_tags = driver.find_elements_by_xpath('//li[@class=\"fleft grey-text br2 placeHolderLi location\"]')\n",
    "len(location_tags)"
   ]
  },
  {
   "cell_type": "code",
   "execution_count": 14,
   "id": "fcb21234",
   "metadata": {},
   "outputs": [
    {
     "data": {
      "text/plain": [
       "20"
      ]
     },
     "execution_count": 14,
     "metadata": {},
     "output_type": "execute_result"
    }
   ],
   "source": [
    "location=[]\n",
    "\n",
    "for i in location_tags:\n",
    "    location.append(i.text)\n",
    "len(location)"
   ]
  },
  {
   "cell_type": "code",
   "execution_count": 15,
   "id": "74383cdd",
   "metadata": {},
   "outputs": [
    {
     "data": {
      "text/plain": [
       "['Hyderabad/Secunderabad, Bangalore/Bengaluru, Delhi / NCR',\n",
       " 'Bangalore/Bengaluru',\n",
       " 'Bangalore/Bengaluru',\n",
       " 'Bangalore/Bengaluru',\n",
       " 'Bangalore/Bengaluru',\n",
       " 'Bangalore/Bengaluru',\n",
       " 'Bangalore/Bengaluru',\n",
       " 'Bangalore/Bengaluru',\n",
       " 'Bangalore/Bengaluru',\n",
       " 'Bangalore/Bengaluru',\n",
       " 'Bangalore/Bengaluru(Whitefield)',\n",
       " 'Ahmedabad, Bangalore/Bengaluru',\n",
       " 'Bangalore/Bengaluru',\n",
       " 'Kochi/Cochin, Kolkata, Pune, Gurgaon/Gurugram, Chennai, Coimbatore, Bangalore/Bengaluru, Mumbai (All Areas), Hyderabad',\n",
       " 'Bangalore/Bengaluru',\n",
       " 'Bangalore/Bengaluru',\n",
       " 'Bangalore/Bengaluru',\n",
       " 'Bangalore/Bengaluru\\n(WFH during Covid)',\n",
       " 'Bangalore/Bengaluru',\n",
       " 'Bangalore/Bengaluru']"
      ]
     },
     "execution_count": 15,
     "metadata": {},
     "output_type": "execute_result"
    }
   ],
   "source": [
    "location"
   ]
  },
  {
   "cell_type": "code",
   "execution_count": 16,
   "id": "88e5c8f8",
   "metadata": {},
   "outputs": [
    {
     "data": {
      "text/plain": [
       "20"
      ]
     },
     "execution_count": 16,
     "metadata": {},
     "output_type": "execute_result"
    }
   ],
   "source": [
    "#lets exytract the company name from the web element\n",
    "company_tags = driver.find_elements_by_xpath('//a[@class=\"subTitle ellipsis fleft\"]')\n",
    "len(company_tags)"
   ]
  },
  {
   "cell_type": "code",
   "execution_count": 20,
   "id": "98519354",
   "metadata": {},
   "outputs": [
    {
     "data": {
      "text/plain": [
       "20"
      ]
     },
     "execution_count": 20,
     "metadata": {},
     "output_type": "execute_result"
    }
   ],
   "source": [
    "company_name=[]\n",
    "\n",
    "for i in company_tags:\n",
    "    company_name.append(i.text)\n",
    "len(company_name)"
   ]
  },
  {
   "cell_type": "code",
   "execution_count": 22,
   "id": "1d76d5f8",
   "metadata": {},
   "outputs": [
    {
     "data": {
      "text/plain": [
       "['Talentify',\n",
       " 'GSK India',\n",
       " 'IBM',\n",
       " 'IBM',\n",
       " 'IBM',\n",
       " 'IBM',\n",
       " 'IBM',\n",
       " 'Siemens',\n",
       " 'Spiceworks',\n",
       " 'AT and T Global Business Services India P. Ltd.',\n",
       " 'AT&T',\n",
       " 'CURise Analytics Pvt. Ltd. (A Trellance Company)',\n",
       " 'Inflexon Point',\n",
       " 'Wipro',\n",
       " 'Societe Generale',\n",
       " 'Kinara Financial Private Limited',\n",
       " 'Brillio',\n",
       " 'Synechron',\n",
       " 'Valuable Consulting',\n",
       " 'IBM']"
      ]
     },
     "execution_count": 22,
     "metadata": {},
     "output_type": "execute_result"
    }
   ],
   "source": [
    "company_name"
   ]
  },
  {
   "cell_type": "code",
   "execution_count": 31,
   "id": "32db1c05",
   "metadata": {},
   "outputs": [
    {
     "data": {
      "text/html": [
       "<div>\n",
       "<style scoped>\n",
       "    .dataframe tbody tr th:only-of-type {\n",
       "        vertical-align: middle;\n",
       "    }\n",
       "\n",
       "    .dataframe tbody tr th {\n",
       "        vertical-align: top;\n",
       "    }\n",
       "\n",
       "    .dataframe thead th {\n",
       "        text-align: right;\n",
       "    }\n",
       "</style>\n",
       "<table border=\"1\" class=\"dataframe\">\n",
       "  <thead>\n",
       "    <tr style=\"text-align: right;\">\n",
       "      <th></th>\n",
       "      <th>job_titles</th>\n",
       "      <th>location</th>\n",
       "      <th>company_name</th>\n",
       "    </tr>\n",
       "  </thead>\n",
       "  <tbody>\n",
       "    <tr>\n",
       "      <th>0</th>\n",
       "      <td>Data Scientist / Analyst</td>\n",
       "      <td>Hyderabad/Secunderabad, Bangalore/Bengaluru, D...</td>\n",
       "      <td>Talentify</td>\n",
       "    </tr>\n",
       "    <tr>\n",
       "      <th>1</th>\n",
       "      <td>Senior Risk Data Scientist</td>\n",
       "      <td>Bangalore/Bengaluru</td>\n",
       "      <td>GSK India</td>\n",
       "    </tr>\n",
       "    <tr>\n",
       "      <th>2</th>\n",
       "      <td>Data Scientist: Advanced Analytics</td>\n",
       "      <td>Bangalore/Bengaluru</td>\n",
       "      <td>IBM</td>\n",
       "    </tr>\n",
       "    <tr>\n",
       "      <th>3</th>\n",
       "      <td>Data Scientist: Advanced Analytics</td>\n",
       "      <td>Bangalore/Bengaluru</td>\n",
       "      <td>IBM</td>\n",
       "    </tr>\n",
       "    <tr>\n",
       "      <th>4</th>\n",
       "      <td>Data Scientist</td>\n",
       "      <td>Bangalore/Bengaluru</td>\n",
       "      <td>IBM</td>\n",
       "    </tr>\n",
       "    <tr>\n",
       "      <th>5</th>\n",
       "      <td>Data Scientist: Artificial Intelligence</td>\n",
       "      <td>Bangalore/Bengaluru</td>\n",
       "      <td>IBM</td>\n",
       "    </tr>\n",
       "    <tr>\n",
       "      <th>6</th>\n",
       "      <td>Data Scientist: Artificial Intelligence</td>\n",
       "      <td>Bangalore/Bengaluru</td>\n",
       "      <td>IBM</td>\n",
       "    </tr>\n",
       "    <tr>\n",
       "      <th>7</th>\n",
       "      <td>Senior Data Scientist - Advanced Analytics</td>\n",
       "      <td>Bangalore/Bengaluru</td>\n",
       "      <td>Siemens</td>\n",
       "    </tr>\n",
       "    <tr>\n",
       "      <th>8</th>\n",
       "      <td>Senior Data Scientist</td>\n",
       "      <td>Bangalore/Bengaluru</td>\n",
       "      <td>Spiceworks</td>\n",
       "    </tr>\n",
       "    <tr>\n",
       "      <th>9</th>\n",
       "      <td>Senior - Data Scientist</td>\n",
       "      <td>Bangalore/Bengaluru</td>\n",
       "      <td>AT and T Global Business Services India P. Ltd.</td>\n",
       "    </tr>\n",
       "  </tbody>\n",
       "</table>\n",
       "</div>"
      ],
      "text/plain": [
       "                                   job_titles  \\\n",
       "0                    Data Scientist / Analyst   \n",
       "1                  Senior Risk Data Scientist   \n",
       "2          Data Scientist: Advanced Analytics   \n",
       "3          Data Scientist: Advanced Analytics   \n",
       "4                              Data Scientist   \n",
       "5     Data Scientist: Artificial Intelligence   \n",
       "6     Data Scientist: Artificial Intelligence   \n",
       "7  Senior Data Scientist - Advanced Analytics   \n",
       "8                       Senior Data Scientist   \n",
       "9                     Senior - Data Scientist   \n",
       "\n",
       "                                            location  \\\n",
       "0  Hyderabad/Secunderabad, Bangalore/Bengaluru, D...   \n",
       "1                                Bangalore/Bengaluru   \n",
       "2                                Bangalore/Bengaluru   \n",
       "3                                Bangalore/Bengaluru   \n",
       "4                                Bangalore/Bengaluru   \n",
       "5                                Bangalore/Bengaluru   \n",
       "6                                Bangalore/Bengaluru   \n",
       "7                                Bangalore/Bengaluru   \n",
       "8                                Bangalore/Bengaluru   \n",
       "9                                Bangalore/Bengaluru   \n",
       "\n",
       "                                      company_name  \n",
       "0                                        Talentify  \n",
       "1                                        GSK India  \n",
       "2                                              IBM  \n",
       "3                                              IBM  \n",
       "4                                              IBM  \n",
       "5                                              IBM  \n",
       "6                                              IBM  \n",
       "7                                          Siemens  \n",
       "8                                       Spiceworks  \n",
       "9  AT and T Global Business Services India P. Ltd.  "
      ]
     },
     "execution_count": 31,
     "metadata": {},
     "output_type": "execute_result"
    }
   ],
   "source": [
    "jobs=pd.DataFrame()\n",
    "\n",
    "jobs['job_titles']=job_titles[:10]\n",
    "jobs['location']=location[:10]\n",
    "jobs['company_name']=company_name[:10]\n",
    "\n",
    "jobs\n"
   ]
  },
  {
   "cell_type": "code",
   "execution_count": null,
   "id": "944ece51",
   "metadata": {},
   "outputs": [],
   "source": []
  },
  {
   "cell_type": "markdown",
   "id": "be5037c7",
   "metadata": {},
   "source": [
    "Q3: In this question you have to scrape data using the filters available on the webpage as shown below"
   ]
  },
  {
   "cell_type": "markdown",
   "id": "3c42f748",
   "metadata": {},
   "source": [
    "You have to scrape data for “Data Scientist” designation for first 10 job results.\n",
    "You have to scrape the job-title, job-location, company name, experience required"
   ]
  },
  {
   "cell_type": "code",
   "execution_count": 66,
   "id": "68807892",
   "metadata": {},
   "outputs": [],
   "source": [
    "url= 'https://www.naukri.com/'\n",
    "driver.get(url)"
   ]
  },
  {
   "cell_type": "code",
   "execution_count": 67,
   "id": "4d413207",
   "metadata": {},
   "outputs": [
    {
     "data": {
      "text/plain": [
       "<selenium.webdriver.remote.webelement.WebElement (session=\"70ebed3f3cdf8df8aa8f437c3938e5d1\", element=\"3e9b0a6b-41ce-4772-b5e5-d1f29291494a\")>"
      ]
     },
     "execution_count": 67,
     "metadata": {},
     "output_type": "execute_result"
    }
   ],
   "source": [
    "# finding web element for search job bar using class name\n",
    "search_job = driver.find_element_by_class_name('suggestor-input')\n",
    "search_job"
   ]
  },
  {
   "cell_type": "code",
   "execution_count": 68,
   "id": "3c5f1315",
   "metadata": {},
   "outputs": [],
   "source": [
    "#write on search bar\n",
    "search_job.send_keys('Data Scientist')"
   ]
  },
  {
   "cell_type": "code",
   "execution_count": 69,
   "id": "c1642737",
   "metadata": {},
   "outputs": [
    {
     "data": {
      "text/plain": [
       "<selenium.webdriver.remote.webelement.WebElement (session=\"70ebed3f3cdf8df8aa8f437c3938e5d1\", element=\"6d8cdd53-e818-4bf6-81aa-39c4ff3dd1d4\")>"
      ]
     },
     "execution_count": 69,
     "metadata": {},
     "output_type": "execute_result"
    }
   ],
   "source": [
    "#clicking using class name function\n",
    "search_btn=driver.find_element_by_class_name('qsbSubmit')\n",
    "search_btn"
   ]
  },
  {
   "cell_type": "code",
   "execution_count": 70,
   "id": "c3bb1652",
   "metadata": {},
   "outputs": [],
   "source": [
    "search_btn.click()"
   ]
  },
  {
   "cell_type": "code",
   "execution_count": 82,
   "id": "26e023ec",
   "metadata": {},
   "outputs": [],
   "source": [
    "#lets apply location filter\n",
    "location_check = driver.find_element_by_xpath('/html/body/div[1]/div[3]/div[2]/section[1]/div[2]/div[3]/div[2]/div[3]/label/i')"
   ]
  },
  {
   "cell_type": "code",
   "execution_count": 83,
   "id": "c69e85df",
   "metadata": {},
   "outputs": [],
   "source": [
    "location_check.click()"
   ]
  },
  {
   "cell_type": "code",
   "execution_count": 85,
   "id": "9c256620",
   "metadata": {},
   "outputs": [],
   "source": [
    "#lets apply salary filter\n",
    "salary_check = driver.find_element_by_xpath('/html/body/div[1]/div[3]/div[2]/section[1]/div[2]/div[4]/div[2]/div[2]/label/i')\n"
   ]
  },
  {
   "cell_type": "code",
   "execution_count": 86,
   "id": "8f79fa30",
   "metadata": {},
   "outputs": [],
   "source": [
    "salary_check.click()"
   ]
  },
  {
   "cell_type": "code",
   "execution_count": 87,
   "id": "63425169",
   "metadata": {},
   "outputs": [
    {
     "data": {
      "text/plain": [
       "20"
      ]
     },
     "execution_count": 87,
     "metadata": {},
     "output_type": "execute_result"
    }
   ],
   "source": [
    "#lets extracts all the web element having job title\n",
    "title_tags = driver.find_elements_by_xpath('//a[@class=\"title fw500 ellipsis\"]')\n",
    "len(title_tags)"
   ]
  },
  {
   "cell_type": "code",
   "execution_count": 88,
   "id": "645372b7",
   "metadata": {},
   "outputs": [
    {
     "data": {
      "text/plain": [
       "20"
      ]
     },
     "execution_count": 88,
     "metadata": {},
     "output_type": "execute_result"
    }
   ],
   "source": [
    "job_titles=[]\n",
    "\n",
    "for i in title_tags:\n",
    "    job_titles.append(i.text)\n",
    "len(job_titles)"
   ]
  },
  {
   "cell_type": "code",
   "execution_count": 89,
   "id": "513fe844",
   "metadata": {},
   "outputs": [
    {
     "data": {
      "text/plain": [
       "['Data Scientist II',\n",
       " 'Opening For Data Scientist',\n",
       " 'Data Analyst / Data Scientist / Business Analytics / Fresher - MNC',\n",
       " 'Data Scientist',\n",
       " 'Lead Data Scientist - KYC/Fraud/Marketing',\n",
       " 'Junior Data Scientist - Goods & Service Tax Network, Delhi',\n",
       " 'Associate Data Scientist - Java/ Scala/ Apache Server',\n",
       " 'Data Scientist',\n",
       " 'Data Scientist',\n",
       " 'Data Scientist / Senior DS/ Team Lead',\n",
       " 'Data Scientist | Python | Machine Learning | Deep Learning- Fresher',\n",
       " 'Data Scientist (ML AI Engineer) / InfoObjects Inc.',\n",
       " 'Urgent Requirement || Data Scientist || Noida',\n",
       " 'Data Scientist (freelance)',\n",
       " 'Data Scientist',\n",
       " 'Data Scientist',\n",
       " 'Senior Data Scientist',\n",
       " 'Data Scientist role',\n",
       " 'Data Scientist role',\n",
       " 'Data Scientist']"
      ]
     },
     "execution_count": 89,
     "metadata": {},
     "output_type": "execute_result"
    }
   ],
   "source": [
    "job_titles"
   ]
  },
  {
   "cell_type": "code",
   "execution_count": 90,
   "id": "3e66bc75",
   "metadata": {},
   "outputs": [
    {
     "data": {
      "text/plain": [
       "20"
      ]
     },
     "execution_count": 90,
     "metadata": {},
     "output_type": "execute_result"
    }
   ],
   "source": [
    "#extracting location\n",
    "location_tags = driver.find_elements_by_xpath('//li[@class=\"fleft grey-text br2 placeHolderLi location\"]')\n",
    "len(location_tags)"
   ]
  },
  {
   "cell_type": "code",
   "execution_count": 91,
   "id": "62977e0e",
   "metadata": {},
   "outputs": [
    {
     "data": {
      "text/plain": [
       "20"
      ]
     },
     "execution_count": 91,
     "metadata": {},
     "output_type": "execute_result"
    }
   ],
   "source": [
    "location=[]\n",
    "\n",
    "for i in location_tags:\n",
    "    location.append(i.text)\n",
    "len(location)"
   ]
  },
  {
   "cell_type": "code",
   "execution_count": 92,
   "id": "d0b4e031",
   "metadata": {},
   "outputs": [
    {
     "data": {
      "text/plain": [
       "['Delhi / NCR',\n",
       " 'Gurgaon/Gurugram',\n",
       " 'Noida, New Delhi, Delhi / NCR',\n",
       " 'Noida',\n",
       " 'New Delhi',\n",
       " 'Delhi / NCR',\n",
       " 'Noida',\n",
       " 'Gurgaon/Gurugram\\n(WFH during Covid)',\n",
       " 'New Delhi',\n",
       " 'Mumbai, Gurgaon/Gurugram(Cyber City +1)',\n",
       " 'Noida, Gurgaon/Gurugram, Delhi / NCR',\n",
       " 'Indore, Jaipur, Delhi / NCR\\n(WFH during Covid)',\n",
       " 'Noida, Delhi / NCR',\n",
       " 'Gurgaon/Gurugram',\n",
       " 'New Delhi',\n",
       " 'Hyderabad/Secunderabad, Pune, Chennai, Bangalore/Bengaluru, Delhi / NCR',\n",
       " 'Delhi',\n",
       " 'Noida, Hyderabad/Secunderabad, Pune, Gurgaon/Gurugram, Bangalore/Bengaluru, Delhi / NCR\\n(WFH during Covid)',\n",
       " 'Noida, Hyderabad/Secunderabad, Pune, Gurgaon/Gurugram, Bangalore/Bengaluru, Delhi / NCR\\n(WFH during Covid)',\n",
       " 'Gurgaon, Bengaluru']"
      ]
     },
     "execution_count": 92,
     "metadata": {},
     "output_type": "execute_result"
    }
   ],
   "source": [
    "location"
   ]
  },
  {
   "cell_type": "code",
   "execution_count": 93,
   "id": "d1558ae9",
   "metadata": {},
   "outputs": [
    {
     "data": {
      "text/plain": [
       "20"
      ]
     },
     "execution_count": 93,
     "metadata": {},
     "output_type": "execute_result"
    }
   ],
   "source": [
    "#lets exytract the company name from the web element\n",
    "company_tags = driver.find_elements_by_xpath('//a[@class=\"subTitle ellipsis fleft\"]')\n",
    "len(company_tags)"
   ]
  },
  {
   "cell_type": "code",
   "execution_count": 94,
   "id": "a4479640",
   "metadata": {},
   "outputs": [
    {
     "data": {
      "text/plain": [
       "20"
      ]
     },
     "execution_count": 94,
     "metadata": {},
     "output_type": "execute_result"
    }
   ],
   "source": [
    "company_name=[]\n",
    "\n",
    "for i in company_tags:\n",
    "    company_name.append(i.text)\n",
    "len(company_name)"
   ]
  },
  {
   "cell_type": "code",
   "execution_count": 95,
   "id": "5ad68691",
   "metadata": {},
   "outputs": [
    {
     "data": {
      "text/plain": [
       "['Chegg',\n",
       " 'Care Health Insurance',\n",
       " 'GABA Consultancy services',\n",
       " 'Stefanini',\n",
       " 'Tide Software',\n",
       " 'NISG (National Institute for Smart Government)',\n",
       " 'Smart work Consultants',\n",
       " 'Zekardo Automotive Solutions',\n",
       " 'Team Computers Pvt Ltd',\n",
       " 'NebulARC Technologies Private Limited',\n",
       " 'Schlesinger Group',\n",
       " 'INFOOBJECTS SOFTWARE ( INDIA) PRIVATE LIMITED',\n",
       " 'HCL',\n",
       " '2Coms',\n",
       " 'Boston Consulting Group',\n",
       " 'Kyndryl',\n",
       " 'iNICU',\n",
       " 'Mount Talent Consulting Private Limited',\n",
       " 'Mount Talent Consulting Private Limited',\n",
       " 'BlackBuck']"
      ]
     },
     "execution_count": 95,
     "metadata": {},
     "output_type": "execute_result"
    }
   ],
   "source": [
    "company_name"
   ]
  },
  {
   "cell_type": "code",
   "execution_count": 96,
   "id": "3553a151",
   "metadata": {},
   "outputs": [
    {
     "data": {
      "text/plain": [
       "20"
      ]
     },
     "execution_count": 96,
     "metadata": {},
     "output_type": "execute_result"
    }
   ],
   "source": [
    "#lets extract the experience required\n",
    "experience_tags = driver.find_elements_by_xpath('//*[contains(@title,\"Yrs\")]')\n",
    "len(experience_tags)"
   ]
  },
  {
   "cell_type": "code",
   "execution_count": 97,
   "id": "939a62d9",
   "metadata": {},
   "outputs": [
    {
     "data": {
      "text/plain": [
       "20"
      ]
     },
     "execution_count": 97,
     "metadata": {},
     "output_type": "execute_result"
    }
   ],
   "source": [
    "experience=[]\n",
    "\n",
    "for i in experience_tags:\n",
    "    experience.append(i.text)\n",
    "len(experience)"
   ]
  },
  {
   "cell_type": "code",
   "execution_count": 98,
   "id": "c23b3cd9",
   "metadata": {},
   "outputs": [
    {
     "data": {
      "text/plain": [
       "['2-6 Yrs',\n",
       " '1-5 Yrs',\n",
       " '0-0 Yrs',\n",
       " '3-8 Yrs',\n",
       " '1-6 Yrs',\n",
       " '3-8 Yrs',\n",
       " '1-4 Yrs',\n",
       " '5-8 Yrs',\n",
       " '2-6 Yrs',\n",
       " '0-4 Yrs',\n",
       " '0-3 Yrs',\n",
       " '3-7 Yrs',\n",
       " '3-8 Yrs',\n",
       " '3-8 Yrs',\n",
       " '2-5 Yrs',\n",
       " '6-11 Yrs',\n",
       " '1-5 Yrs',\n",
       " '1-4 Yrs',\n",
       " '1-3 Yrs',\n",
       " '3-7 Yrs']"
      ]
     },
     "execution_count": 98,
     "metadata": {},
     "output_type": "execute_result"
    }
   ],
   "source": [
    "experience"
   ]
  },
  {
   "cell_type": "code",
   "execution_count": 100,
   "id": "99f4f4e0",
   "metadata": {},
   "outputs": [
    {
     "data": {
      "text/html": [
       "<div>\n",
       "<style scoped>\n",
       "    .dataframe tbody tr th:only-of-type {\n",
       "        vertical-align: middle;\n",
       "    }\n",
       "\n",
       "    .dataframe tbody tr th {\n",
       "        vertical-align: top;\n",
       "    }\n",
       "\n",
       "    .dataframe thead th {\n",
       "        text-align: right;\n",
       "    }\n",
       "</style>\n",
       "<table border=\"1\" class=\"dataframe\">\n",
       "  <thead>\n",
       "    <tr style=\"text-align: right;\">\n",
       "      <th></th>\n",
       "      <th>job_titles</th>\n",
       "      <th>location</th>\n",
       "      <th>company_name</th>\n",
       "      <th>experience</th>\n",
       "    </tr>\n",
       "  </thead>\n",
       "  <tbody>\n",
       "    <tr>\n",
       "      <th>0</th>\n",
       "      <td>Data Scientist II</td>\n",
       "      <td>Delhi / NCR</td>\n",
       "      <td>Chegg</td>\n",
       "      <td>2-6 Yrs</td>\n",
       "    </tr>\n",
       "    <tr>\n",
       "      <th>1</th>\n",
       "      <td>Opening For Data Scientist</td>\n",
       "      <td>Gurgaon/Gurugram</td>\n",
       "      <td>Care Health Insurance</td>\n",
       "      <td>1-5 Yrs</td>\n",
       "    </tr>\n",
       "    <tr>\n",
       "      <th>2</th>\n",
       "      <td>Data Analyst / Data Scientist / Business Analy...</td>\n",
       "      <td>Noida, New Delhi, Delhi / NCR</td>\n",
       "      <td>GABA Consultancy services</td>\n",
       "      <td>0-0 Yrs</td>\n",
       "    </tr>\n",
       "    <tr>\n",
       "      <th>3</th>\n",
       "      <td>Data Scientist</td>\n",
       "      <td>Noida</td>\n",
       "      <td>Stefanini</td>\n",
       "      <td>3-8 Yrs</td>\n",
       "    </tr>\n",
       "    <tr>\n",
       "      <th>4</th>\n",
       "      <td>Lead Data Scientist - KYC/Fraud/Marketing</td>\n",
       "      <td>New Delhi</td>\n",
       "      <td>Tide Software</td>\n",
       "      <td>1-6 Yrs</td>\n",
       "    </tr>\n",
       "    <tr>\n",
       "      <th>5</th>\n",
       "      <td>Junior Data Scientist - Goods &amp; Service Tax Ne...</td>\n",
       "      <td>Delhi / NCR</td>\n",
       "      <td>NISG (National Institute for Smart Government)</td>\n",
       "      <td>3-8 Yrs</td>\n",
       "    </tr>\n",
       "    <tr>\n",
       "      <th>6</th>\n",
       "      <td>Associate Data Scientist - Java/ Scala/ Apache...</td>\n",
       "      <td>Noida</td>\n",
       "      <td>Smart work Consultants</td>\n",
       "      <td>1-4 Yrs</td>\n",
       "    </tr>\n",
       "    <tr>\n",
       "      <th>7</th>\n",
       "      <td>Data Scientist</td>\n",
       "      <td>Gurgaon/Gurugram\\n(WFH during Covid)</td>\n",
       "      <td>Zekardo Automotive Solutions</td>\n",
       "      <td>5-8 Yrs</td>\n",
       "    </tr>\n",
       "    <tr>\n",
       "      <th>8</th>\n",
       "      <td>Data Scientist</td>\n",
       "      <td>New Delhi</td>\n",
       "      <td>Team Computers Pvt Ltd</td>\n",
       "      <td>2-6 Yrs</td>\n",
       "    </tr>\n",
       "    <tr>\n",
       "      <th>9</th>\n",
       "      <td>Data Scientist / Senior DS/ Team Lead</td>\n",
       "      <td>Mumbai, Gurgaon/Gurugram(Cyber City +1)</td>\n",
       "      <td>NebulARC Technologies Private Limited</td>\n",
       "      <td>0-4 Yrs</td>\n",
       "    </tr>\n",
       "  </tbody>\n",
       "</table>\n",
       "</div>"
      ],
      "text/plain": [
       "                                          job_titles  \\\n",
       "0                                  Data Scientist II   \n",
       "1                         Opening For Data Scientist   \n",
       "2  Data Analyst / Data Scientist / Business Analy...   \n",
       "3                                     Data Scientist   \n",
       "4          Lead Data Scientist - KYC/Fraud/Marketing   \n",
       "5  Junior Data Scientist - Goods & Service Tax Ne...   \n",
       "6  Associate Data Scientist - Java/ Scala/ Apache...   \n",
       "7                                     Data Scientist   \n",
       "8                                     Data Scientist   \n",
       "9              Data Scientist / Senior DS/ Team Lead   \n",
       "\n",
       "                                  location  \\\n",
       "0                              Delhi / NCR   \n",
       "1                         Gurgaon/Gurugram   \n",
       "2            Noida, New Delhi, Delhi / NCR   \n",
       "3                                    Noida   \n",
       "4                                New Delhi   \n",
       "5                              Delhi / NCR   \n",
       "6                                    Noida   \n",
       "7     Gurgaon/Gurugram\\n(WFH during Covid)   \n",
       "8                                New Delhi   \n",
       "9  Mumbai, Gurgaon/Gurugram(Cyber City +1)   \n",
       "\n",
       "                                     company_name experience  \n",
       "0                                           Chegg    2-6 Yrs  \n",
       "1                           Care Health Insurance    1-5 Yrs  \n",
       "2                       GABA Consultancy services    0-0 Yrs  \n",
       "3                                       Stefanini    3-8 Yrs  \n",
       "4                                   Tide Software    1-6 Yrs  \n",
       "5  NISG (National Institute for Smart Government)    3-8 Yrs  \n",
       "6                          Smart work Consultants    1-4 Yrs  \n",
       "7                    Zekardo Automotive Solutions    5-8 Yrs  \n",
       "8                          Team Computers Pvt Ltd    2-6 Yrs  \n",
       "9           NebulARC Technologies Private Limited    0-4 Yrs  "
      ]
     },
     "execution_count": 100,
     "metadata": {},
     "output_type": "execute_result"
    }
   ],
   "source": [
    "jobs=pd.DataFrame()\n",
    "\n",
    "jobs['job_titles']=job_titles[:10]\n",
    "jobs['location']=location[:10]\n",
    "jobs['company_name']=company_name[:10]\n",
    "jobs['experience']=experience[:10]\n",
    "\n",
    "jobs"
   ]
  },
  {
   "cell_type": "markdown",
   "id": "a8bb80f8",
   "metadata": {},
   "source": [
    "Q4: Scrape data of first 100 sunglasses listings on flipkart.com. You have to scrape four attributes:\n",
    "1. Brand\n",
    "2. Product Description\n",
    "3. Price\n"
   ]
  },
  {
   "cell_type": "code",
   "execution_count": 76,
   "id": "fedf94ba",
   "metadata": {},
   "outputs": [],
   "source": [
    "driver = webdriver.Chrome(r'C:\\Users\\91797\\Desktop\\chromedriver_win32\\chromedriver.exe')"
   ]
  },
  {
   "cell_type": "code",
   "execution_count": 81,
   "id": "0b11ce44",
   "metadata": {},
   "outputs": [],
   "source": [
    "url='https://www.flipkart.com/'\n",
    "driver.get(url)"
   ]
  },
  {
   "cell_type": "code",
   "execution_count": 82,
   "id": "1b33c4c3",
   "metadata": {},
   "outputs": [],
   "source": [
    "# sending keys to product search column\n",
    "product_search = driver.find_element_by_xpath('//input[@title=\"Search for products, brands and more\"]')\n",
    "product_search.send_keys('Sunglasses')"
   ]
  },
  {
   "cell_type": "code",
   "execution_count": 84,
   "id": "3d532a0e",
   "metadata": {},
   "outputs": [],
   "source": [
    "# clicking the search button\n",
    "search_btn = driver.find_element_by_xpath('//button[@class=\"L0Z3Pu\"]')\n",
    "search_btn.click()"
   ]
  },
  {
   "cell_type": "code",
   "execution_count": null,
   "id": "e7f11b1d",
   "metadata": {},
   "outputs": [],
   "source": [
    "#setting the page limit from which we can scrapthe 100 data\n",
    "start = 0\n",
    "end = 3"
   ]
  },
  {
   "cell_type": "code",
   "execution_count": 103,
   "id": "07793e4c",
   "metadata": {},
   "outputs": [],
   "source": [
    "for page in range(start,end):  # for loop for 3 pages in range so that each page's data could be scraped iteratively\n",
    "    for i in driver.find_elements_by_xpath('//div[@class=\"_2WkVRV\"]'): # getting web elements for brand names\n",
    "        brand.append(i.text) # appending brand name data in brand empty list"
   ]
  },
  {
   "cell_type": "code",
   "execution_count": 105,
   "id": "d65aa98d",
   "metadata": {},
   "outputs": [],
   "source": [
    "prod_desc = []\n",
    "\n",
    "# scraping data for product desciption.  \n",
    "for page in range(start,end):\n",
    "    for i in driver.find_elements_by_xpath('//a[@class=\"IRpwTa\"]'):\n",
    "        if i.text is None:          # if somewhere text is missing in web element\n",
    "            prod_desc.append('--')  # then append desh so that our length of data could be same and related with other data\n",
    "        else:\n",
    "            prod_desc.append(i.text) # appending text of product description in empty list\n",
    "\n",
    "        \n",
    "       \n",
    "        "
   ]
  },
  {
   "cell_type": "code",
   "execution_count": 110,
   "id": "fda66c9a",
   "metadata": {},
   "outputs": [],
   "source": [
    "price=[]\n",
    "\n",
    "# scraping data for price data\n",
    "for page in range(start,end):\n",
    "\n",
    "    for i in driver.find_elements_by_xpath('//div[@class=\"_30jeq3\"]'): # getting web elements in which price data is present\n",
    "        price.append(i.text) "
   ]
  },
  {
   "cell_type": "code",
   "execution_count": 108,
   "id": "de0121ed",
   "metadata": {},
   "outputs": [],
   "source": [
    "discount = []\n",
    "\n",
    "#scrapping the data for product discount.\n",
    "for page in range(start,end):\n",
    "    for i in driver.find_elements_by_xpath('//div[@class=\"_3Ay6Sb\"]//span'):\n",
    "        if i.text is None:  # if somewhere discount is missing apending empty list with desh\n",
    "            discount.append('--')\n",
    "        else:\n",
    "            discount.append(i.text)    # appending empty list with discount data \n",
    "       \n",
    "\n"
   ]
  },
  {
   "cell_type": "code",
   "execution_count": 113,
   "id": "b9a526ac",
   "metadata": {},
   "outputs": [],
   "source": [
    "# getting next page for next page data through next page's web elemnt till above mentioned page range in for loop\n",
    "next_btn = driver.find_elements_by_xpath('//a[@class=\"_1LKTO3\"]') # getting next button web element\n",
    "try:                                                          \n",
    "    driver.get(next_btn[1].get_attribute('href'))   # trying opening next page through the href link present in web element\n",
    "except:\n",
    "    driver.get(next_btn[0].get_attribute('href')) "
   ]
  },
  {
   "cell_type": "code",
   "execution_count": 114,
   "id": "4f1a95dd",
   "metadata": {},
   "outputs": [
    {
     "name": "stdout",
     "output_type": "stream",
     "text": [
      "120 120 114 120\n"
     ]
    }
   ],
   "source": [
    "print(len(discount),len(price),len(prod_desc),len(brand))"
   ]
  },
  {
   "cell_type": "code",
   "execution_count": 118,
   "id": "0258cbee",
   "metadata": {},
   "outputs": [
    {
     "data": {
      "text/html": [
       "<div>\n",
       "<style scoped>\n",
       "    .dataframe tbody tr th:only-of-type {\n",
       "        vertical-align: middle;\n",
       "    }\n",
       "\n",
       "    .dataframe tbody tr th {\n",
       "        vertical-align: top;\n",
       "    }\n",
       "\n",
       "    .dataframe thead th {\n",
       "        text-align: right;\n",
       "    }\n",
       "</style>\n",
       "<table border=\"1\" class=\"dataframe\">\n",
       "  <thead>\n",
       "    <tr style=\"text-align: right;\">\n",
       "      <th></th>\n",
       "      <th>Brand</th>\n",
       "      <th>Product Description</th>\n",
       "      <th>Price</th>\n",
       "      <th>Discount</th>\n",
       "    </tr>\n",
       "  </thead>\n",
       "  <tbody>\n",
       "    <tr>\n",
       "      <th>0</th>\n",
       "      <td>SRPM</td>\n",
       "      <td>UV Protection Wayfarer Sunglasses (53)</td>\n",
       "      <td>₹207</td>\n",
       "      <td>79% off</td>\n",
       "    </tr>\n",
       "    <tr>\n",
       "      <th>1</th>\n",
       "      <td>Johaena</td>\n",
       "      <td>Riding Glasses, UV Protection Oval Sunglasses ...</td>\n",
       "      <td>₹156</td>\n",
       "      <td>87% off</td>\n",
       "    </tr>\n",
       "    <tr>\n",
       "      <th>2</th>\n",
       "      <td>Lee Topper</td>\n",
       "      <td>Riding Glasses, Night Vision Wrap-around Sungl...</td>\n",
       "      <td>₹276</td>\n",
       "      <td>88% off</td>\n",
       "    </tr>\n",
       "    <tr>\n",
       "      <th>3</th>\n",
       "      <td>ROZZETTA CRAFT</td>\n",
       "      <td>UV Protection Round Sunglasses (Free Size)</td>\n",
       "      <td>₹426</td>\n",
       "      <td>84% off</td>\n",
       "    </tr>\n",
       "    <tr>\n",
       "      <th>4</th>\n",
       "      <td>ROYAL SON</td>\n",
       "      <td>UV Protection Rectangular Sunglasses (58)</td>\n",
       "      <td>₹449</td>\n",
       "      <td>70% off</td>\n",
       "    </tr>\n",
       "    <tr>\n",
       "      <th>...</th>\n",
       "      <td>...</td>\n",
       "      <td>...</td>\n",
       "      <td>...</td>\n",
       "      <td>...</td>\n",
       "    </tr>\n",
       "    <tr>\n",
       "      <th>95</th>\n",
       "      <td>VINCENT CHASE</td>\n",
       "      <td>UV Protection Cat-eye Sunglasses (17)</td>\n",
       "      <td>₹849</td>\n",
       "      <td>66% off</td>\n",
       "    </tr>\n",
       "    <tr>\n",
       "      <th>96</th>\n",
       "      <td>Singco India</td>\n",
       "      <td>UV Protection, Riding Glasses Wayfarer Sunglas...</td>\n",
       "      <td>₹664</td>\n",
       "      <td>77% off</td>\n",
       "    </tr>\n",
       "    <tr>\n",
       "      <th>97</th>\n",
       "      <td>Elligator</td>\n",
       "      <td>UV Protection, Riding Glasses Rectangular Sung...</td>\n",
       "      <td>₹230</td>\n",
       "      <td>88% off</td>\n",
       "    </tr>\n",
       "    <tr>\n",
       "      <th>98</th>\n",
       "      <td>Lee Topper</td>\n",
       "      <td>Riding Glasses, UV Protection, Others Aviator ...</td>\n",
       "      <td>₹275</td>\n",
       "      <td>88% off</td>\n",
       "    </tr>\n",
       "    <tr>\n",
       "      <th>99</th>\n",
       "      <td>chawla fashion</td>\n",
       "      <td>UV Protection Aviator Sunglasses (58)</td>\n",
       "      <td>₹189</td>\n",
       "      <td>81% off</td>\n",
       "    </tr>\n",
       "  </tbody>\n",
       "</table>\n",
       "<p>100 rows × 4 columns</p>\n",
       "</div>"
      ],
      "text/plain": [
       "             Brand                                Product Description Price  \\\n",
       "0             SRPM             UV Protection Wayfarer Sunglasses (53)  ₹207   \n",
       "1          Johaena  Riding Glasses, UV Protection Oval Sunglasses ...  ₹156   \n",
       "2       Lee Topper  Riding Glasses, Night Vision Wrap-around Sungl...  ₹276   \n",
       "3   ROZZETTA CRAFT         UV Protection Round Sunglasses (Free Size)  ₹426   \n",
       "4        ROYAL SON          UV Protection Rectangular Sunglasses (58)  ₹449   \n",
       "..             ...                                                ...   ...   \n",
       "95   VINCENT CHASE              UV Protection Cat-eye Sunglasses (17)  ₹849   \n",
       "96    Singco India  UV Protection, Riding Glasses Wayfarer Sunglas...  ₹664   \n",
       "97       Elligator  UV Protection, Riding Glasses Rectangular Sung...  ₹230   \n",
       "98      Lee Topper  Riding Glasses, UV Protection, Others Aviator ...  ₹275   \n",
       "99  chawla fashion              UV Protection Aviator Sunglasses (58)  ₹189   \n",
       "\n",
       "   Discount  \n",
       "0   79% off  \n",
       "1   87% off  \n",
       "2   88% off  \n",
       "3   84% off  \n",
       "4   70% off  \n",
       "..      ...  \n",
       "95  66% off  \n",
       "96  77% off  \n",
       "97  88% off  \n",
       "98  88% off  \n",
       "99  81% off  \n",
       "\n",
       "[100 rows x 4 columns]"
      ]
     },
     "execution_count": 118,
     "metadata": {},
     "output_type": "execute_result"
    }
   ],
   "source": [
    "data = pd.DataFrame({})\n",
    "\n",
    "data['Brand'] = brand[:100]\n",
    "data['Product Description'] = prod_desc[:100]\n",
    "data['Price'] = price[:100]\n",
    "data['Discount'] = discount[:100]\n",
    "data"
   ]
  },
  {
   "cell_type": "markdown",
   "id": "57ec6672",
   "metadata": {},
   "source": [
    "Q6: Scrape data for first 100 sneakers you find when you visit flipkart.com andsearch for “sneakers” in the\n",
    "search field.\n",
    "You have to scrape 4 attributes of each sneaker:\n",
    "1. Brand\n",
    "2. Product Description\n",
    "3. Price"
   ]
  },
  {
   "cell_type": "code",
   "execution_count": 119,
   "id": "b57dff1e",
   "metadata": {},
   "outputs": [],
   "source": [
    "driver = webdriver.Chrome(r'C:\\Users\\91797\\Desktop\\chromedriver_win32\\chromedriver.exe')"
   ]
  },
  {
   "cell_type": "code",
   "execution_count": 120,
   "id": "9b1448f0",
   "metadata": {},
   "outputs": [],
   "source": [
    "url='https://www.flipkart.com/'\n",
    "driver.get(url)"
   ]
  },
  {
   "cell_type": "code",
   "execution_count": 121,
   "id": "b5178e00",
   "metadata": {},
   "outputs": [],
   "source": [
    "# sending keys to product search column\n",
    "product_search = driver.find_element_by_class_name('_3704LK')\n",
    "product_search.send_keys('Sneakers')"
   ]
  },
  {
   "cell_type": "code",
   "execution_count": 124,
   "id": "548c120b",
   "metadata": {},
   "outputs": [],
   "source": [
    "# clicking the search button\n",
    "search_btn = driver.find_element_by_xpath('//button[@class=\"L0Z3Pu\"]')\n",
    "search_btn.click()"
   ]
  },
  {
   "cell_type": "code",
   "execution_count": 147,
   "id": "e6b4b680",
   "metadata": {},
   "outputs": [],
   "source": [
    "#setting the page limit from which we can scrapthe 100 data\n",
    "start = 0\n",
    "end = 3\n",
    "brand=[]\n",
    "for page in range(start,end):  # for loop for 3 pages in range so that each page's data could be scraped iteratively\n",
    "    for i in driver.find_elements_by_xpath('//div[@class=\"_2WkVRV\"]'): # getting web elements for brand names\n",
    "        brand.append(i.text) # appending brand name data in brand empty list"
   ]
  },
  {
   "cell_type": "code",
   "execution_count": 172,
   "id": "5a040fe9",
   "metadata": {},
   "outputs": [],
   "source": [
    "prod_desc=[]\n",
    "\n",
    "for page in range(start,end):\n",
    "    for i in driver.find_elements_by_class_name('IRpwTa'):# getting web elements for product description\n",
    "        prod_desc.append(i.text)# appending product description data in brand empty list\n",
    "    "
   ]
  },
  {
   "cell_type": "code",
   "execution_count": 149,
   "id": "2b157a2b",
   "metadata": {},
   "outputs": [],
   "source": [
    "price=[]\n",
    "\n",
    "for page in range(start,end):\n",
    "    for i in driver.find_elements_by_xpath('//div[@class=\"_30jeq3\"]'):# getting web elements for product description\n",
    "        price.append(i.text)# appending product description data in brand empty list"
   ]
  },
  {
   "cell_type": "code",
   "execution_count": 150,
   "id": "54bd12f2",
   "metadata": {},
   "outputs": [],
   "source": [
    "discount=[]\n",
    "\n",
    "for page in range(start,end):\n",
    "    for i in driver.find_elements_by_xpath('//div[@class=\"_3Ay6Sb\"]'):# getting web elements for product description\n",
    "        discount.append(i.text)# appending product description data in brand empty list"
   ]
  },
  {
   "cell_type": "code",
   "execution_count": 151,
   "id": "88b43995",
   "metadata": {},
   "outputs": [],
   "source": [
    "# getting next page for next page data through next page's web elemnt till above mentioned page range in for loop\n",
    "next_btn = driver.find_elements_by_xpath('//a[@class=\"_1LKTO3\"]') # getting next button web element\n",
    "try:                                                          \n",
    "    driver.get(next_btn[1].get_attribute('href'))   # trying opening next page through the href link present in web element\n",
    "except:\n",
    "    driver.get(next_btn[0].get_attribute('href')) "
   ]
  },
  {
   "cell_type": "code",
   "execution_count": 174,
   "id": "3a4cae79",
   "metadata": {},
   "outputs": [
    {
     "name": "stdout",
     "output_type": "stream",
     "text": [
      "120 120 120 120\n"
     ]
    }
   ],
   "source": [
    "print(len(discount),len(price),len(prod_desc),len(brand))"
   ]
  },
  {
   "cell_type": "code",
   "execution_count": 175,
   "id": "4cfd9606",
   "metadata": {},
   "outputs": [
    {
     "data": {
      "text/html": [
       "<div>\n",
       "<style scoped>\n",
       "    .dataframe tbody tr th:only-of-type {\n",
       "        vertical-align: middle;\n",
       "    }\n",
       "\n",
       "    .dataframe tbody tr th {\n",
       "        vertical-align: top;\n",
       "    }\n",
       "\n",
       "    .dataframe thead th {\n",
       "        text-align: right;\n",
       "    }\n",
       "</style>\n",
       "<table border=\"1\" class=\"dataframe\">\n",
       "  <thead>\n",
       "    <tr style=\"text-align: right;\">\n",
       "      <th></th>\n",
       "      <th>Brand</th>\n",
       "      <th>Product Description</th>\n",
       "      <th>Price</th>\n",
       "      <th>Discount</th>\n",
       "    </tr>\n",
       "  </thead>\n",
       "  <tbody>\n",
       "    <tr>\n",
       "      <th>0</th>\n",
       "      <td>Kraasa</td>\n",
       "      <td>Trendy Casual Shoes Sneakers For Men</td>\n",
       "      <td>₹444</td>\n",
       "      <td>55% off</td>\n",
       "    </tr>\n",
       "    <tr>\n",
       "      <th>1</th>\n",
       "      <td>corsac</td>\n",
       "      <td>Sneakers For Men</td>\n",
       "      <td>₹499</td>\n",
       "      <td>66% off</td>\n",
       "    </tr>\n",
       "    <tr>\n",
       "      <th>2</th>\n",
       "      <td>Arohi</td>\n",
       "      <td>Sneakers For Men</td>\n",
       "      <td>₹435</td>\n",
       "      <td>56% off</td>\n",
       "    </tr>\n",
       "    <tr>\n",
       "      <th>3</th>\n",
       "      <td>Echor</td>\n",
       "      <td>Men's Sneakers Fashion Lightweight Running Sho...</td>\n",
       "      <td>₹499</td>\n",
       "      <td>50% off</td>\n",
       "    </tr>\n",
       "    <tr>\n",
       "      <th>4</th>\n",
       "      <td>aadi</td>\n",
       "      <td>Casual Sneakers Sneakers For Men</td>\n",
       "      <td>₹449</td>\n",
       "      <td>77% off</td>\n",
       "    </tr>\n",
       "    <tr>\n",
       "      <th>...</th>\n",
       "      <td>...</td>\n",
       "      <td>...</td>\n",
       "      <td>...</td>\n",
       "      <td>...</td>\n",
       "    </tr>\n",
       "    <tr>\n",
       "      <th>95</th>\n",
       "      <td>HRX by Hrithik Roshan</td>\n",
       "      <td>Sneakers For Men</td>\n",
       "      <td>₹2,299</td>\n",
       "      <td>39% off</td>\n",
       "    </tr>\n",
       "    <tr>\n",
       "      <th>96</th>\n",
       "      <td>PUMA</td>\n",
       "      <td>Men Casual Shoe New Trend With Fashion Panda D...</td>\n",
       "      <td>₹2,481</td>\n",
       "      <td>64% off</td>\n",
       "    </tr>\n",
       "    <tr>\n",
       "      <th>97</th>\n",
       "      <td>Chevit</td>\n",
       "      <td>casual for men Sneakers For Men</td>\n",
       "      <td>₹446</td>\n",
       "      <td>55% off</td>\n",
       "    </tr>\n",
       "    <tr>\n",
       "      <th>98</th>\n",
       "      <td>KNIGHT WALKERS</td>\n",
       "      <td>Clasico Sneakers For Men</td>\n",
       "      <td>₹599</td>\n",
       "      <td>60% off</td>\n",
       "    </tr>\n",
       "    <tr>\n",
       "      <th>99</th>\n",
       "      <td>BRUTON</td>\n",
       "      <td>Combo Pack Of 2 Latest Stylish Casual Shoes fo...</td>\n",
       "      <td>₹499</td>\n",
       "      <td>80% off</td>\n",
       "    </tr>\n",
       "  </tbody>\n",
       "</table>\n",
       "<p>100 rows × 4 columns</p>\n",
       "</div>"
      ],
      "text/plain": [
       "                    Brand                                Product Description  \\\n",
       "0                  Kraasa               Trendy Casual Shoes Sneakers For Men   \n",
       "1                  corsac                                   Sneakers For Men   \n",
       "2                   Arohi                                   Sneakers For Men   \n",
       "3                   Echor  Men's Sneakers Fashion Lightweight Running Sho...   \n",
       "4                    aadi                   Casual Sneakers Sneakers For Men   \n",
       "..                    ...                                                ...   \n",
       "95  HRX by Hrithik Roshan                                   Sneakers For Men   \n",
       "96                   PUMA  Men Casual Shoe New Trend With Fashion Panda D...   \n",
       "97                 Chevit                    casual for men Sneakers For Men   \n",
       "98         KNIGHT WALKERS                           Clasico Sneakers For Men   \n",
       "99                 BRUTON  Combo Pack Of 2 Latest Stylish Casual Shoes fo...   \n",
       "\n",
       "     Price Discount  \n",
       "0     ₹444  55% off  \n",
       "1     ₹499  66% off  \n",
       "2     ₹435  56% off  \n",
       "3     ₹499  50% off  \n",
       "4     ₹449  77% off  \n",
       "..     ...      ...  \n",
       "95  ₹2,299  39% off  \n",
       "96  ₹2,481  64% off  \n",
       "97    ₹446  55% off  \n",
       "98    ₹599  60% off  \n",
       "99    ₹499  80% off  \n",
       "\n",
       "[100 rows x 4 columns]"
      ]
     },
     "execution_count": 175,
     "metadata": {},
     "output_type": "execute_result"
    }
   ],
   "source": [
    "data = pd.DataFrame({})\n",
    "\n",
    "data['Brand'] = brand[:100]\n",
    "data['Product Description'] = prod_desc[:100]\n",
    "data['Price'] = price[:100]\n",
    "data['Discount'] = discount[:100]\n",
    "data"
   ]
  },
  {
   "cell_type": "markdown",
   "id": "a5a1c1fd",
   "metadata": {},
   "source": [
    "Q5: Scrape 100 reviews data from flipkart.com for iphone11 phone. You have to go the link:\n",
    "As shown in the above page you have to scrape the tick marked attributes.These are:\n",
    "1. Rating\n",
    "2. Review summary\n",
    "3. Full review\n",
    "4. You have to scrape this data for first 100 reviews"
   ]
  },
  {
   "cell_type": "code",
   "execution_count": 187,
   "id": "cc8ea3a1",
   "metadata": {},
   "outputs": [],
   "source": [
    "driver = webdriver.Chrome(r'C:\\Users\\91797\\Desktop\\chromedriver_win32\\chromedriver.exe')"
   ]
  },
  {
   "cell_type": "code",
   "execution_count": 188,
   "id": "eddeb387",
   "metadata": {},
   "outputs": [],
   "source": [
    "url='https://www.flipkart.com/apple-iphone-11-black-64-gb-includes-%20earpods-poweradapter/p/itm0f37c2240b217?pid=MOBFKCTSVZAXUHGR&lid=LSTMOBFKC%20TSVZAXUHGREPBFGI&marketplace.'\n",
    "driver.get(url)"
   ]
  },
  {
   "cell_type": "code",
   "execution_count": 189,
   "id": "49cb06f3",
   "metadata": {},
   "outputs": [],
   "source": [
    "# opening all reviews page where we can find all pages link\n",
    "all_reviews = driver.find_element_by_xpath('/html/body/div[1]/div/div[3]/div[1]/div[2]/div[8]/div/div/div[5]/div/a')\n",
    "driver.get(all_reviews.get_attribute('href'))"
   ]
  },
  {
   "cell_type": "code",
   "execution_count": 190,
   "id": "377fbbe3",
   "metadata": {},
   "outputs": [],
   "source": [
    "# creating empty lists\n",
    "page_urls = []\n",
    "# scraping urls of first 10 pages which is available on the same page\n",
    "url_1 = driver.find_element_by_xpath('//a[@class=\"ge-49M _2Kfbh8\"]') # getting first page url in page_urls[]\n",
    "page_urls.append(url_1.get_attribute('href'))\n"
   ]
  },
  {
   "cell_type": "code",
   "execution_count": 191,
   "id": "05e0bbc0",
   "metadata": {},
   "outputs": [],
   "source": [
    "url_2 = driver.find_elements_by_xpath('//a[@class=\"ge-49M\"]')  # getting rest of 9 pages urls in page_urls[] list\n",
    "for i in url_2:\n",
    "    page_urls.append(i.get_attribute('href'))\n",
    "    "
   ]
  },
  {
   "cell_type": "code",
   "execution_count": 198,
   "id": "215d78ab",
   "metadata": {},
   "outputs": [
    {
     "name": "stdout",
     "output_type": "stream",
     "text": [
      "100 100 100\n"
     ]
    }
   ],
   "source": [
    "print(len(rating_star),len(review_summary),len(full_review))"
   ]
  },
  {
   "cell_type": "code",
   "execution_count": 199,
   "id": "1a382c4a",
   "metadata": {},
   "outputs": [],
   "source": [
    "rating =[]\n",
    "review_summary=[]\n",
    "full_review=[]\n",
    "\n",
    "\n",
    "\n",
    "# now getting all the desire data through each page of reviews iteratively\n",
    "for i in page_urls:\n",
    "    driver.get(i)\n",
    "    \n",
    "    for j in driver.find_elements_by_xpath('//div[@class=\"col _2wzgFH K0kLPL\"]/div[1]/div[1]'): # getting web elements of ratings\n",
    "        rating.append(j.text)            # appending rating data into empty list of rating_star[]\n",
    "        \n",
    "    for k in driver.find_elements_by_xpath('//p[@class=\"_2-N8zT\"]'):  # getting web elements of review summary \n",
    "        review_summary.append(k.text)  # appending the review summary text data into empty list of review_summary[]\n",
    "        \n",
    "    for l in driver.find_elements_by_xpath('//div[@class=\"t-ZTKy\"]/div/div'):  # getting web elements of full reviews through parent tag\n",
    "        full_review.append(l.text)  # appending full reviews to the empty list of full_review[]"
   ]
  },
  {
   "cell_type": "code",
   "execution_count": 200,
   "id": "cf3f1c8b",
   "metadata": {},
   "outputs": [
    {
     "data": {
      "text/html": [
       "<div>\n",
       "<style scoped>\n",
       "    .dataframe tbody tr th:only-of-type {\n",
       "        vertical-align: middle;\n",
       "    }\n",
       "\n",
       "    .dataframe tbody tr th {\n",
       "        vertical-align: top;\n",
       "    }\n",
       "\n",
       "    .dataframe thead th {\n",
       "        text-align: right;\n",
       "    }\n",
       "</style>\n",
       "<table border=\"1\" class=\"dataframe\">\n",
       "  <thead>\n",
       "    <tr style=\"text-align: right;\">\n",
       "      <th></th>\n",
       "      <th>Rating</th>\n",
       "      <th>Review</th>\n",
       "      <th>Full Review</th>\n",
       "    </tr>\n",
       "  </thead>\n",
       "  <tbody>\n",
       "    <tr>\n",
       "      <th>0</th>\n",
       "      <td>5</td>\n",
       "      <td>Brilliant</td>\n",
       "      <td>The Best Phone for the Money\\n\\nThe iPhone 11 ...</td>\n",
       "    </tr>\n",
       "    <tr>\n",
       "      <th>1</th>\n",
       "      <td>5</td>\n",
       "      <td>Simply awesome</td>\n",
       "      <td>Really satisfied with the Product I received.....</td>\n",
       "    </tr>\n",
       "    <tr>\n",
       "      <th>2</th>\n",
       "      <td>5</td>\n",
       "      <td>Best in the market!</td>\n",
       "      <td>Great iPhone very snappy experience as apple k...</td>\n",
       "    </tr>\n",
       "    <tr>\n",
       "      <th>3</th>\n",
       "      <td>5</td>\n",
       "      <td>Perfect product!</td>\n",
       "      <td>Amazing phone with great cameras and better ba...</td>\n",
       "    </tr>\n",
       "    <tr>\n",
       "      <th>4</th>\n",
       "      <td>5</td>\n",
       "      <td>Worth every penny</td>\n",
       "      <td>Previously I was using one plus 3t it was a gr...</td>\n",
       "    </tr>\n",
       "    <tr>\n",
       "      <th>...</th>\n",
       "      <td>...</td>\n",
       "      <td>...</td>\n",
       "      <td>...</td>\n",
       "    </tr>\n",
       "    <tr>\n",
       "      <th>95</th>\n",
       "      <td>5</td>\n",
       "      <td>Terrific</td>\n",
       "      <td>I got this beast today. And I must say the pic...</td>\n",
       "    </tr>\n",
       "    <tr>\n",
       "      <th>96</th>\n",
       "      <td>5</td>\n",
       "      <td>Highly recommended</td>\n",
       "      <td>Amazing camera quality as expected, battery al...</td>\n",
       "    </tr>\n",
       "    <tr>\n",
       "      <th>97</th>\n",
       "      <td>5</td>\n",
       "      <td>Must buy!</td>\n",
       "      <td>Dear friends... I want to share my experience ...</td>\n",
       "    </tr>\n",
       "    <tr>\n",
       "      <th>98</th>\n",
       "      <td>5</td>\n",
       "      <td>Must buy!</td>\n",
       "      <td>Camera is excellent just lack of telephoto mod...</td>\n",
       "    </tr>\n",
       "    <tr>\n",
       "      <th>99</th>\n",
       "      <td>5</td>\n",
       "      <td>Excellent</td>\n",
       "      <td>It was amazing experience for me. Honestly i a...</td>\n",
       "    </tr>\n",
       "  </tbody>\n",
       "</table>\n",
       "<p>100 rows × 3 columns</p>\n",
       "</div>"
      ],
      "text/plain": [
       "   Rating               Review  \\\n",
       "0       5            Brilliant   \n",
       "1       5       Simply awesome   \n",
       "2       5  Best in the market!   \n",
       "3       5     Perfect product!   \n",
       "4       5    Worth every penny   \n",
       "..    ...                  ...   \n",
       "95      5             Terrific   \n",
       "96      5   Highly recommended   \n",
       "97      5            Must buy!   \n",
       "98      5            Must buy!   \n",
       "99      5            Excellent   \n",
       "\n",
       "                                          Full Review  \n",
       "0   The Best Phone for the Money\\n\\nThe iPhone 11 ...  \n",
       "1   Really satisfied with the Product I received.....  \n",
       "2   Great iPhone very snappy experience as apple k...  \n",
       "3   Amazing phone with great cameras and better ba...  \n",
       "4   Previously I was using one plus 3t it was a gr...  \n",
       "..                                                ...  \n",
       "95  I got this beast today. And I must say the pic...  \n",
       "96  Amazing camera quality as expected, battery al...  \n",
       "97  Dear friends... I want to share my experience ...  \n",
       "98  Camera is excellent just lack of telephoto mod...  \n",
       "99  It was amazing experience for me. Honestly i a...  \n",
       "\n",
       "[100 rows x 3 columns]"
      ]
     },
     "execution_count": 200,
     "metadata": {},
     "output_type": "execute_result"
    }
   ],
   "source": [
    "data=pd.DataFrame({})\n",
    "data['Rating']=rating_star\n",
    "data['Review']=review_summary\n",
    "data['Full Review']=full_review\n",
    "data"
   ]
  },
  {
   "cell_type": "markdown",
   "id": "0347e79d",
   "metadata": {},
   "source": [
    "Question 7) Go to the link - https://www.myntra.com/shoes Set Price filter to “Rs. 7149 to Rs. 14099 ” , Color filter to “Black”, as shown inthe below image. And then scrape First 100 shoes data you get. The data should include “Brand” of the shoes , Short Shoe description, price of the shoe as shown in the below image."
   ]
  },
  {
   "cell_type": "code",
   "execution_count": 247,
   "id": "146565e8",
   "metadata": {},
   "outputs": [],
   "source": [
    "driver = webdriver.Chrome(r'C:\\Users\\91797\\Desktop\\chromedriver_win32\\chromedriver.exe')"
   ]
  },
  {
   "cell_type": "code",
   "execution_count": 248,
   "id": "65a26d6f",
   "metadata": {},
   "outputs": [],
   "source": [
    "url='https://www.myntra.com/shoes'\n",
    "driver.get(url)"
   ]
  },
  {
   "cell_type": "code",
   "execution_count": 249,
   "id": "d78a58e1",
   "metadata": {},
   "outputs": [],
   "source": [
    "#clicking on price filter range from “Rs. 7149 to Rs. 14099 ”\n",
    "price_filter = driver.find_element_by_xpath('/html/body/div[2]/div/div[1]/main/div[3]/div[1]/section/div/div[5]/ul/li[2]/label/div')\n",
    "price_filter.click()"
   ]
  },
  {
   "cell_type": "code",
   "execution_count": 250,
   "id": "13feed17",
   "metadata": {},
   "outputs": [],
   "source": [
    "#clicking on colour filter \"black\"\n",
    "color_filter = driver.find_element_by_xpath('/html/body/div[2]/div/div[1]/main/div[3]/div[1]/section/div/div[6]/ul/li[1]/label/div')\n",
    "color_filter.click()"
   ]
  },
  {
   "cell_type": "code",
   "execution_count": 251,
   "id": "1433c8a2",
   "metadata": {},
   "outputs": [],
   "source": [
    "# creating empty list\n",
    "brand = []\n",
    "description = []\n",
    "price = []\n",
    "\n",
    "\n"
   ]
  },
  {
   "cell_type": "code",
   "execution_count": 252,
   "id": "df509aa6",
   "metadata": {},
   "outputs": [],
   "source": [
    "# setting page limit upto which data needed to be scraped\n",
    "start = 0\n",
    "end = 2\n"
   ]
  },
  {
   "cell_type": "code",
   "execution_count": 253,
   "id": "6e240e72",
   "metadata": {},
   "outputs": [],
   "source": [
    "#scraping data for brand\n",
    "for page in range(start,end):  # for loop for page\n",
    "    for i in driver.find_elements_by_xpath('//h3[@class=\"product-brand\"]'):\n",
    "        brand.append(i.text)"
   ]
  },
  {
   "cell_type": "code",
   "execution_count": 254,
   "id": "3fa61f6a",
   "metadata": {},
   "outputs": [],
   "source": [
    "#scrapping data for description\n",
    "for page in range(start,end): \n",
    "    for i in driver.find_elements_by_xpath('//h4[@class=\"product-product\"]'):\n",
    "        description.append(i.text)\n",
    "    "
   ]
  },
  {
   "cell_type": "code",
   "execution_count": 255,
   "id": "4daed492",
   "metadata": {},
   "outputs": [],
   "source": [
    "#scrapping data for price\n",
    "for page in range (start,end):\n",
    "    for i in driver.find_elements_by_xpath('//div[@class=\"product-price\"]'):\n",
    "        price.append(i.text)\n",
    "    "
   ]
  },
  {
   "cell_type": "code",
   "execution_count": 256,
   "id": "8fa47cfc",
   "metadata": {},
   "outputs": [
    {
     "name": "stdout",
     "output_type": "stream",
     "text": [
      "100 100 100\n"
     ]
    }
   ],
   "source": [
    "print(len(brand),len(description),len(price))"
   ]
  },
  {
   "cell_type": "code",
   "execution_count": 257,
   "id": "a8f7e772",
   "metadata": {},
   "outputs": [
    {
     "data": {
      "text/html": [
       "<div>\n",
       "<style scoped>\n",
       "    .dataframe tbody tr th:only-of-type {\n",
       "        vertical-align: middle;\n",
       "    }\n",
       "\n",
       "    .dataframe tbody tr th {\n",
       "        vertical-align: top;\n",
       "    }\n",
       "\n",
       "    .dataframe thead th {\n",
       "        text-align: right;\n",
       "    }\n",
       "</style>\n",
       "<table border=\"1\" class=\"dataframe\">\n",
       "  <thead>\n",
       "    <tr style=\"text-align: right;\">\n",
       "      <th></th>\n",
       "      <th>Brand</th>\n",
       "      <th>Description</th>\n",
       "      <th>Price</th>\n",
       "    </tr>\n",
       "  </thead>\n",
       "  <tbody>\n",
       "    <tr>\n",
       "      <th>0</th>\n",
       "      <td>Nike</td>\n",
       "      <td>Men AIR ZOOM PEGASUS 38</td>\n",
       "      <td>Rs. 9770Rs. 11495(15% OFF)</td>\n",
       "    </tr>\n",
       "    <tr>\n",
       "      <th>1</th>\n",
       "      <td>ALDO</td>\n",
       "      <td>Men Printed Sneakers</td>\n",
       "      <td>Rs. 9099Rs. 12999(Rs. 3900 OFF)</td>\n",
       "    </tr>\n",
       "    <tr>\n",
       "      <th>2</th>\n",
       "      <td>Tommy Hilfiger</td>\n",
       "      <td>Men Leather Sneakers</td>\n",
       "      <td>Rs. 7999</td>\n",
       "    </tr>\n",
       "    <tr>\n",
       "      <th>3</th>\n",
       "      <td>Nike</td>\n",
       "      <td>Men Zoom F3 Basketball Shoes</td>\n",
       "      <td>Rs. 9260Rs. 10895(15% OFF)</td>\n",
       "    </tr>\n",
       "    <tr>\n",
       "      <th>4</th>\n",
       "      <td>Nike</td>\n",
       "      <td>Men Blazer Court Skateboarding</td>\n",
       "      <td>Rs. 7495</td>\n",
       "    </tr>\n",
       "    <tr>\n",
       "      <th>...</th>\n",
       "      <td>...</td>\n",
       "      <td>...</td>\n",
       "      <td>...</td>\n",
       "    </tr>\n",
       "    <tr>\n",
       "      <th>95</th>\n",
       "      <td>Royal Enfield</td>\n",
       "      <td>Cabo WP Riding Boots</td>\n",
       "      <td>Rs. 8500</td>\n",
       "    </tr>\n",
       "    <tr>\n",
       "      <th>96</th>\n",
       "      <td>J.FONTINI</td>\n",
       "      <td>Men Textured Leather Loafers</td>\n",
       "      <td>Rs. 8490</td>\n",
       "    </tr>\n",
       "    <tr>\n",
       "      <th>97</th>\n",
       "      <td>J.FONTINI</td>\n",
       "      <td>Men Black Leather Loafers</td>\n",
       "      <td>Rs. 8490</td>\n",
       "    </tr>\n",
       "    <tr>\n",
       "      <th>98</th>\n",
       "      <td>Heel &amp; Buckle London</td>\n",
       "      <td>Men Solid Leather Formal Loafers</td>\n",
       "      <td>Rs. 10791Rs. 11990(Rs. 1199 OFF)</td>\n",
       "    </tr>\n",
       "    <tr>\n",
       "      <th>99</th>\n",
       "      <td>Hush Puppies</td>\n",
       "      <td>Men Solid Leather Formal Slip-Ons</td>\n",
       "      <td>Rs. 9999</td>\n",
       "    </tr>\n",
       "  </tbody>\n",
       "</table>\n",
       "<p>100 rows × 3 columns</p>\n",
       "</div>"
      ],
      "text/plain": [
       "                   Brand                        Description  \\\n",
       "0                   Nike            Men AIR ZOOM PEGASUS 38   \n",
       "1                   ALDO               Men Printed Sneakers   \n",
       "2         Tommy Hilfiger               Men Leather Sneakers   \n",
       "3                   Nike       Men Zoom F3 Basketball Shoes   \n",
       "4                   Nike     Men Blazer Court Skateboarding   \n",
       "..                   ...                                ...   \n",
       "95         Royal Enfield               Cabo WP Riding Boots   \n",
       "96             J.FONTINI       Men Textured Leather Loafers   \n",
       "97             J.FONTINI          Men Black Leather Loafers   \n",
       "98  Heel & Buckle London   Men Solid Leather Formal Loafers   \n",
       "99          Hush Puppies  Men Solid Leather Formal Slip-Ons   \n",
       "\n",
       "                               Price  \n",
       "0         Rs. 9770Rs. 11495(15% OFF)  \n",
       "1    Rs. 9099Rs. 12999(Rs. 3900 OFF)  \n",
       "2                           Rs. 7999  \n",
       "3         Rs. 9260Rs. 10895(15% OFF)  \n",
       "4                           Rs. 7495  \n",
       "..                               ...  \n",
       "95                          Rs. 8500  \n",
       "96                          Rs. 8490  \n",
       "97                          Rs. 8490  \n",
       "98  Rs. 10791Rs. 11990(Rs. 1199 OFF)  \n",
       "99                          Rs. 9999  \n",
       "\n",
       "[100 rows x 3 columns]"
      ]
     },
     "execution_count": 257,
     "metadata": {},
     "output_type": "execute_result"
    }
   ],
   "source": [
    "data=pd.DataFrame({})\n",
    "data['Brand']=brand\n",
    "data['Description']=description\n",
    "data['Price']=price\n",
    "data"
   ]
  },
  {
   "cell_type": "markdown",
   "id": "cc21d581",
   "metadata": {},
   "source": [
    "Q9: Write a python program to scrape data for first 10 job results for Data Scientist Designation in Noida\n",
    "location. You have to scrape company name, No. of days ago when job was posted, Rating of the company.\n",
    "This task will be done in following steps:"
   ]
  },
  {
   "cell_type": "code",
   "execution_count": 124,
   "id": "d1d2f567",
   "metadata": {},
   "outputs": [],
   "source": [
    "driver = webdriver.Chrome(r'C:\\Users\\91797\\Desktop\\chromedriver_win32\\chromedriver.exe')"
   ]
  },
  {
   "cell_type": "code",
   "execution_count": 125,
   "id": "215c1d95",
   "metadata": {},
   "outputs": [],
   "source": [
    "url='https://www.ambitionbox.com/'\n",
    "driver.get(url)"
   ]
  },
  {
   "cell_type": "code",
   "execution_count": 126,
   "id": "9b2f8c26",
   "metadata": {},
   "outputs": [
    {
     "data": {
      "text/plain": [
       "<selenium.webdriver.remote.webelement.WebElement (session=\"b5f7b9113db5e70efb95d4e940987337\", element=\"f0db95b8-ce27-46b1-8247-cc444740fae1\")>"
      ]
     },
     "execution_count": 126,
     "metadata": {},
     "output_type": "execute_result"
    }
   ],
   "source": [
    "# finding web element for search job bar using xpath\n",
    "search_job = driver.find_element_by_xpath('/html/body/div[1]/nav/nav/a[6]')\n",
    "search_job"
   ]
  },
  {
   "cell_type": "code",
   "execution_count": 127,
   "id": "4b5eba09",
   "metadata": {},
   "outputs": [],
   "source": [
    "search_job.click()"
   ]
  },
  {
   "cell_type": "code",
   "execution_count": 128,
   "id": "8205d8db",
   "metadata": {},
   "outputs": [
    {
     "data": {
      "text/plain": [
       "<selenium.webdriver.remote.webelement.WebElement (session=\"b5f7b9113db5e70efb95d4e940987337\", element=\"e731e797-88f6-4a14-930c-44a11f37920d\")>"
      ]
     },
     "execution_count": 128,
     "metadata": {},
     "output_type": "execute_result"
    }
   ],
   "source": [
    "# finding web element for search job bar using xpath\n",
    "search_job = driver.find_element_by_xpath('/html/body/div/div/div/div[2]/div[1]/div/div/div/div/span/input')\n",
    "search_job"
   ]
  },
  {
   "cell_type": "code",
   "execution_count": 129,
   "id": "7545585b",
   "metadata": {},
   "outputs": [],
   "source": [
    "#write on search bar\n",
    "search_job.send_keys('Data scientist')"
   ]
  },
  {
   "cell_type": "code",
   "execution_count": 131,
   "id": "e48594f8",
   "metadata": {},
   "outputs": [
    {
     "data": {
      "text/plain": [
       "<selenium.webdriver.remote.webelement.WebElement (session=\"b5f7b9113db5e70efb95d4e940987337\", element=\"6ce591cd-8a3d-45ed-905f-8f0e03b59082\")>"
      ]
     },
     "execution_count": 131,
     "metadata": {},
     "output_type": "execute_result"
    }
   ],
   "source": [
    "#clicking using class name function\n",
    "search_job=driver.find_element_by_xpath('/html/body/div/div/div/div[2]/div[1]/div/div/div/button/span')\n",
    "search_job"
   ]
  },
  {
   "cell_type": "code",
   "execution_count": 132,
   "id": "170b6fbf",
   "metadata": {},
   "outputs": [],
   "source": [
    "search_job.click()"
   ]
  },
  {
   "cell_type": "code",
   "execution_count": 133,
   "id": "5a1e039c",
   "metadata": {},
   "outputs": [
    {
     "data": {
      "text/plain": [
       "<selenium.webdriver.remote.webelement.WebElement (session=\"b5f7b9113db5e70efb95d4e940987337\", element=\"c5773282-8f78-4ace-90f8-c597bb74e435\")>"
      ]
     },
     "execution_count": 133,
     "metadata": {},
     "output_type": "execute_result"
    }
   ],
   "source": [
    "# finding web element for job location bar using xpath\n",
    "job_location = driver.find_element_by_xpath('/html/body/div/div/div/div[2]/div[2]/div[1]/div/div/div/div[2]/div[1]/p')\n",
    "job_location"
   ]
  },
  {
   "cell_type": "code",
   "execution_count": 134,
   "id": "069abd78",
   "metadata": {},
   "outputs": [],
   "source": [
    "job_location.click()"
   ]
  },
  {
   "cell_type": "code",
   "execution_count": 135,
   "id": "97b27277",
   "metadata": {},
   "outputs": [
    {
     "data": {
      "text/plain": [
       "<selenium.webdriver.remote.webelement.WebElement (session=\"b5f7b9113db5e70efb95d4e940987337\", element=\"9e1d525e-2181-4103-9288-ff8080e2098c\")>"
      ]
     },
     "execution_count": 135,
     "metadata": {},
     "output_type": "execute_result"
    }
   ],
   "source": [
    "# finding web element for location bar using xpath\n",
    "location = driver.find_element_by_xpath('/html/body/div/div/div/div[2]/div[2]/div[1]/div/div/div/div[2]/div[2]/div/div[2]/input')\n",
    "location"
   ]
  },
  {
   "cell_type": "code",
   "execution_count": 136,
   "id": "905cc34e",
   "metadata": {},
   "outputs": [],
   "source": [
    "#write on search bar\n",
    "location.send_keys('Noida')"
   ]
  },
  {
   "cell_type": "code",
   "execution_count": 137,
   "id": "b2083db2",
   "metadata": {},
   "outputs": [
    {
     "data": {
      "text/plain": [
       "<selenium.webdriver.remote.webelement.WebElement (session=\"b5f7b9113db5e70efb95d4e940987337\", element=\"45782400-b417-4650-b13e-0701334e6c02\")>"
      ]
     },
     "execution_count": 137,
     "metadata": {},
     "output_type": "execute_result"
    }
   ],
   "source": [
    "# clicking on web element for location noida using xpath\n",
    "location = driver.find_element_by_xpath('/html/body/div/div/div/div[2]/div[2]/div[1]/div/div/div/div[2]/div[2]/div/div[3]/div[1]/div[1]/div/label')\n",
    "location"
   ]
  },
  {
   "cell_type": "code",
   "execution_count": 138,
   "id": "88207324",
   "metadata": {},
   "outputs": [],
   "source": [
    "location.click()"
   ]
  },
  {
   "cell_type": "code",
   "execution_count": 278,
   "id": "6e0a3dad",
   "metadata": {},
   "outputs": [
    {
     "data": {
      "text/plain": [
       "10"
      ]
     },
     "execution_count": 278,
     "metadata": {},
     "output_type": "execute_result"
    }
   ],
   "source": [
    "#extracting the company tags\n",
    "company_name=driver.find_elements_by_xpath('//p[@class=\"company body-medium\"]')\n",
    "len(company_name)"
   ]
  },
  {
   "cell_type": "code",
   "execution_count": 279,
   "id": "5f7c30d4",
   "metadata": {},
   "outputs": [],
   "source": [
    "Company_name=[]\n",
    "for i in company_name:\n",
    "    Company_name.append(i.text)"
   ]
  },
  {
   "cell_type": "code",
   "execution_count": 281,
   "id": "1d6024cc",
   "metadata": {},
   "outputs": [
    {
     "data": {
      "text/plain": [
       "['Jubilant Foodworks Limited',\n",
       " 'HCL Technologies',\n",
       " 'EY GDS',\n",
       " 'Tavant Technologies India Pvt. Ltd.',\n",
       " 'Denave India Pvt Ltd.',\n",
       " 'EXL Service',\n",
       " 'CHT Sapiense',\n",
       " 'Pitney Bowes India Pvt ltd',\n",
       " 'Zyoin',\n",
       " 'Ameriprise Financial']"
      ]
     },
     "execution_count": 281,
     "metadata": {},
     "output_type": "execute_result"
    }
   ],
   "source": [
    "Company_name"
   ]
  },
  {
   "cell_type": "code",
   "execution_count": 233,
   "id": "f6664003",
   "metadata": {},
   "outputs": [
    {
     "data": {
      "text/plain": [
       "20"
      ]
     },
     "execution_count": 233,
     "metadata": {},
     "output_type": "execute_result"
    }
   ],
   "source": [
    "#extracting the posted date\n",
    "Date_posted=driver.find_elements_by_xpath('//span[@class=\"body-small-l\"]')\n",
    "len(Date_posted)"
   ]
  },
  {
   "cell_type": "code",
   "execution_count": 234,
   "id": "8c065701",
   "metadata": {},
   "outputs": [],
   "source": [
    "post_date=[]\n",
    "\n",
    "for i in Date_posted:\n",
    "    post_date.append(i.text)\n",
    "    "
   ]
  },
  {
   "cell_type": "code",
   "execution_count": 238,
   "id": "a281e938",
   "metadata": {},
   "outputs": [],
   "source": [
    "post_date1 = post_date[0 : 20 : 2]"
   ]
  },
  {
   "cell_type": "code",
   "execution_count": 239,
   "id": "0013e6fe",
   "metadata": {},
   "outputs": [
    {
     "data": {
      "text/plain": [
       "['13d ago',\n",
       " '26d ago',\n",
       " '27d ago',\n",
       " '7d ago',\n",
       " '7d ago',\n",
       " '20d ago',\n",
       " '1d ago',\n",
       " '27d ago',\n",
       " '5d ago',\n",
       " '1mon ago']"
      ]
     },
     "execution_count": 239,
     "metadata": {},
     "output_type": "execute_result"
    }
   ],
   "source": [
    "post_date1"
   ]
  },
  {
   "cell_type": "code",
   "execution_count": 262,
   "id": "5632d28f",
   "metadata": {},
   "outputs": [
    {
     "data": {
      "text/plain": [
       "10"
      ]
     },
     "execution_count": 262,
     "metadata": {},
     "output_type": "execute_result"
    }
   ],
   "source": [
    "#extracting the posted date\n",
    "ratings=driver.find_elements_by_xpath('//span[@class=\"body-small\"]')\n",
    "len(ratings)"
   ]
  },
  {
   "cell_type": "code",
   "execution_count": 263,
   "id": "2b22f36b",
   "metadata": {},
   "outputs": [],
   "source": [
    "Ratings=[]\n",
    "for i in ratings:\n",
    "    Ratings.append(i.text)"
   ]
  },
  {
   "cell_type": "code",
   "execution_count": 268,
   "id": "fed93492",
   "metadata": {},
   "outputs": [
    {
     "data": {
      "text/plain": [
       "['3.9', '3.8', '3.7', '4.0', '4.0', '3.8', '3.8', '4.2', '4.1', '4.0']"
      ]
     },
     "execution_count": 268,
     "metadata": {},
     "output_type": "execute_result"
    }
   ],
   "source": [
    "Ratings"
   ]
  },
  {
   "cell_type": "code",
   "execution_count": 283,
   "id": "9c49b034",
   "metadata": {
    "scrolled": true
   },
   "outputs": [
    {
     "data": {
      "text/html": [
       "<div>\n",
       "<style scoped>\n",
       "    .dataframe tbody tr th:only-of-type {\n",
       "        vertical-align: middle;\n",
       "    }\n",
       "\n",
       "    .dataframe tbody tr th {\n",
       "        vertical-align: top;\n",
       "    }\n",
       "\n",
       "    .dataframe thead th {\n",
       "        text-align: right;\n",
       "    }\n",
       "</style>\n",
       "<table border=\"1\" class=\"dataframe\">\n",
       "  <thead>\n",
       "    <tr style=\"text-align: right;\">\n",
       "      <th></th>\n",
       "      <th>Company Name</th>\n",
       "      <th>Posted</th>\n",
       "      <th>Ratings</th>\n",
       "    </tr>\n",
       "  </thead>\n",
       "  <tbody>\n",
       "    <tr>\n",
       "      <th>0</th>\n",
       "      <td>Jubilant Foodworks Limited</td>\n",
       "      <td>13d ago</td>\n",
       "      <td>3.9</td>\n",
       "    </tr>\n",
       "    <tr>\n",
       "      <th>1</th>\n",
       "      <td>HCL Technologies</td>\n",
       "      <td>26d ago</td>\n",
       "      <td>3.8</td>\n",
       "    </tr>\n",
       "    <tr>\n",
       "      <th>2</th>\n",
       "      <td>EY GDS</td>\n",
       "      <td>27d ago</td>\n",
       "      <td>3.7</td>\n",
       "    </tr>\n",
       "    <tr>\n",
       "      <th>3</th>\n",
       "      <td>Tavant Technologies India Pvt. Ltd.</td>\n",
       "      <td>7d ago</td>\n",
       "      <td>4.0</td>\n",
       "    </tr>\n",
       "    <tr>\n",
       "      <th>4</th>\n",
       "      <td>Denave India Pvt Ltd.</td>\n",
       "      <td>7d ago</td>\n",
       "      <td>4.0</td>\n",
       "    </tr>\n",
       "    <tr>\n",
       "      <th>5</th>\n",
       "      <td>EXL Service</td>\n",
       "      <td>20d ago</td>\n",
       "      <td>3.8</td>\n",
       "    </tr>\n",
       "    <tr>\n",
       "      <th>6</th>\n",
       "      <td>CHT Sapiense</td>\n",
       "      <td>1d ago</td>\n",
       "      <td>3.8</td>\n",
       "    </tr>\n",
       "    <tr>\n",
       "      <th>7</th>\n",
       "      <td>Pitney Bowes India Pvt ltd</td>\n",
       "      <td>27d ago</td>\n",
       "      <td>4.2</td>\n",
       "    </tr>\n",
       "    <tr>\n",
       "      <th>8</th>\n",
       "      <td>Zyoin</td>\n",
       "      <td>5d ago</td>\n",
       "      <td>4.1</td>\n",
       "    </tr>\n",
       "    <tr>\n",
       "      <th>9</th>\n",
       "      <td>Ameriprise Financial</td>\n",
       "      <td>1mon ago</td>\n",
       "      <td>4.0</td>\n",
       "    </tr>\n",
       "  </tbody>\n",
       "</table>\n",
       "</div>"
      ],
      "text/plain": [
       "                          Company Name    Posted Ratings\n",
       "0           Jubilant Foodworks Limited   13d ago     3.9\n",
       "1                     HCL Technologies   26d ago     3.8\n",
       "2                               EY GDS   27d ago     3.7\n",
       "3  Tavant Technologies India Pvt. Ltd.    7d ago     4.0\n",
       "4                Denave India Pvt Ltd.    7d ago     4.0\n",
       "5                          EXL Service   20d ago     3.8\n",
       "6                         CHT Sapiense    1d ago     3.8\n",
       "7           Pitney Bowes India Pvt ltd   27d ago     4.2\n",
       "8                                Zyoin    5d ago     4.1\n",
       "9                 Ameriprise Financial  1mon ago     4.0"
      ]
     },
     "execution_count": 283,
     "metadata": {},
     "output_type": "execute_result"
    }
   ],
   "source": [
    "#creating DataFrame\n",
    "jobs=pd.DataFrame({})\n",
    "jobs['Company Name']=Company_name\n",
    "jobs['Posted']=post_date1\n",
    "jobs['Ratings']=Ratings\n",
    "jobs"
   ]
  },
  {
   "cell_type": "markdown",
   "id": "c65e6389",
   "metadata": {},
   "source": [
    "Q10: Write a python program to scrape the salary data for Data Scientist designation.\n",
    "You have to scrape Company name, Number of salaries, Average salary, Minsalary, Max Salary"
   ]
  },
  {
   "cell_type": "code",
   "execution_count": 45,
   "id": "86852c35",
   "metadata": {},
   "outputs": [],
   "source": [
    "driver = webdriver.Chrome(r'C:\\Users\\91797\\Desktop\\chromedriver_win32\\chromedriver.exe')"
   ]
  },
  {
   "cell_type": "code",
   "execution_count": 46,
   "id": "3348c23c",
   "metadata": {},
   "outputs": [],
   "source": [
    "url='https://www.ambitionbox.com/'\n",
    "driver.get(url)"
   ]
  },
  {
   "cell_type": "code",
   "execution_count": 47,
   "id": "abd1509e",
   "metadata": {},
   "outputs": [
    {
     "data": {
      "text/plain": [
       "<selenium.webdriver.remote.webelement.WebElement (session=\"4f53ab0fa7d8768a4c9d89e3832d9ae2\", element=\"105406dc-2038-4c2a-b97a-839e9a9cdd7a\")>"
      ]
     },
     "execution_count": 47,
     "metadata": {},
     "output_type": "execute_result"
    }
   ],
   "source": [
    "# finding web element for search salaries bar using xpath\n",
    "search_salaries = driver.find_element_by_xpath('/html/body/div[1]/nav/nav/a[4]')\n",
    "search_salaries"
   ]
  },
  {
   "cell_type": "code",
   "execution_count": 48,
   "id": "3266178e",
   "metadata": {},
   "outputs": [],
   "source": [
    "search_salaries.click()"
   ]
  },
  {
   "cell_type": "code",
   "execution_count": 49,
   "id": "2386595b",
   "metadata": {},
   "outputs": [
    {
     "data": {
      "text/plain": [
       "<selenium.webdriver.remote.webelement.WebElement (session=\"4f53ab0fa7d8768a4c9d89e3832d9ae2\", element=\"6ea7cd47-d5cd-4f7f-b36f-d91e922cb926\")>"
      ]
     },
     "execution_count": 49,
     "metadata": {},
     "output_type": "execute_result"
    }
   ],
   "source": [
    "# selecting the search bar to enter the designation\n",
    "search_designation = driver.find_element_by_xpath('/html/body/div/div/div/main/section[1]/div[2]/div[1]/span/input')\n",
    "search_designation"
   ]
  },
  {
   "cell_type": "code",
   "execution_count": 50,
   "id": "7d31e2ff",
   "metadata": {},
   "outputs": [],
   "source": [
    "#write on search bar\n",
    "search_designation.send_keys('Data scientist')"
   ]
  },
  {
   "cell_type": "code",
   "execution_count": 53,
   "id": "1b9d84af",
   "metadata": {
    "scrolled": true
   },
   "outputs": [],
   "source": [
    "search_ds = driver.find_elements_by_xpath('/html/body/div/div/div/main/section[1]/div[2]/div[1]/span/div/div/div[1]/div/div/p')\n",
    "for i in search_ds:\n",
    "    if 'Data Scientist' in i.text:\n",
    "        i.click()\n",
    "        break"
   ]
  },
  {
   "cell_type": "code",
   "execution_count": 88,
   "id": "87d7edfe",
   "metadata": {},
   "outputs": [],
   "source": [
    "#scrapping the  company name\n",
    "company_name=[]\n",
    "\n",
    "for i in driver.find_elements_by_xpath('//div[@class=\"name\"]'):\n",
    "    company_name.append(i.text.split('\\n')[0])"
   ]
  },
  {
   "cell_type": "code",
   "execution_count": 89,
   "id": "cdca8e36",
   "metadata": {},
   "outputs": [
    {
     "data": {
      "text/plain": [
       "10"
      ]
     },
     "execution_count": 89,
     "metadata": {},
     "output_type": "execute_result"
    }
   ],
   "source": [
    "len(company_name)"
   ]
  },
  {
   "cell_type": "code",
   "execution_count": 63,
   "id": "281f438e",
   "metadata": {},
   "outputs": [
    {
     "data": {
      "text/plain": [
       "[' 10 salaries',\n",
       " ' 25 salaries',\n",
       " ' 13 salaries',\n",
       " ' 25 salaries',\n",
       " ' 75 salaries',\n",
       " ' 30 salaries',\n",
       " ' 51 salaries',\n",
       " ' 14 salaries',\n",
       " ' 13 salaries',\n",
       " ' 43 salaries']"
      ]
     },
     "execution_count": 63,
     "metadata": {},
     "output_type": "execute_result"
    }
   ],
   "source": [
    "total_salary_record"
   ]
  },
  {
   "cell_type": "code",
   "execution_count": 65,
   "id": "1f811197",
   "metadata": {},
   "outputs": [],
   "source": [
    "#scrapping the average salary,\n",
    "average_salary=[]\n",
    "\n",
    "for i in driver.find_elements_by_xpath('//p[@class=\"averageCtc\"]'):\n",
    "    average_salary.append(i.text)"
   ]
  },
  {
   "cell_type": "code",
   "execution_count": 66,
   "id": "bb584e06",
   "metadata": {},
   "outputs": [
    {
     "data": {
      "text/plain": [
       "10"
      ]
     },
     "execution_count": 66,
     "metadata": {},
     "output_type": "execute_result"
    }
   ],
   "source": [
    "len(average_salary)"
   ]
  },
  {
   "cell_type": "code",
   "execution_count": 70,
   "id": "53c926fe",
   "metadata": {},
   "outputs": [],
   "source": [
    "#extracting minimum and maximum salary\n",
    "\n",
    "minimum_salary = []\n",
    "maximum_salary = []\n",
    "salary_tag_min = driver.find_elements_by_xpath('//div[@class=\"salary-values\"]')\n",
    "for i in salary_tag_min:\n",
    "    minimum_salary.append(i.text.split('\\n')[0])\n",
    "    maximum_salary.append(i.text.split('\\n')[1])\n",
    "minimum_salary = minimum_salary[:10]\n",
    "\n"
   ]
  },
  {
   "cell_type": "code",
   "execution_count": 69,
   "id": "190c1354",
   "metadata": {},
   "outputs": [
    {
     "data": {
      "text/plain": [
       "['₹ 17.7L',\n",
       " '₹ 15.0L',\n",
       " '₹ 9.8L',\n",
       " '₹ 11.0L',\n",
       " '₹ 9.5L',\n",
       " '₹ 9.0L',\n",
       " '₹ 8.3L',\n",
       " '₹ 10.0L',\n",
       " '₹ 8.5L',\n",
       " '₹ 5.8L']"
      ]
     },
     "execution_count": 69,
     "metadata": {},
     "output_type": "execute_result"
    }
   ],
   "source": [
    "minimum_salary"
   ]
  },
  {
   "cell_type": "code",
   "execution_count": 71,
   "id": "2585d5fe",
   "metadata": {},
   "outputs": [
    {
     "data": {
      "text/plain": [
       "['₹ 35.0L',\n",
       " '₹ 25.5L',\n",
       " '₹ 20.0L',\n",
       " '₹ 21.3L',\n",
       " '₹ 22.0L',\n",
       " '₹ 18.5L',\n",
       " '₹ 20.5L',\n",
       " '₹ 21.0L',\n",
       " '₹ 15.0L',\n",
       " '₹ 24.0L']"
      ]
     },
     "execution_count": 71,
     "metadata": {},
     "output_type": "execute_result"
    }
   ],
   "source": [
    "maximum_salary"
   ]
  },
  {
   "cell_type": "code",
   "execution_count": 84,
   "id": "3798f747",
   "metadata": {},
   "outputs": [],
   "source": [
    "#extracting experience required.\n",
    "experience=[]\n",
    "\n",
    "for i in driver.find_elements_by_xpath('//div[@class=\"salaries sbold-list-header\"]'):\n",
    "    experience.append(i.text.split('\\n')[-1].replace('exp',''))"
   ]
  },
  {
   "cell_type": "code",
   "execution_count": 85,
   "id": "15471d64",
   "metadata": {},
   "outputs": [
    {
     "data": {
      "text/plain": [
       "['3 yrs ',\n",
       " '3-4 yrs ',\n",
       " '2 yrs ',\n",
       " '3-4 yrs ',\n",
       " '2-4 yrs ',\n",
       " '3-4 yrs ',\n",
       " '2-4 yrs ',\n",
       " '4 yrs ',\n",
       " '4 yrs ',\n",
       " '3-4 yrs ']"
      ]
     },
     "execution_count": 85,
     "metadata": {},
     "output_type": "execute_result"
    }
   ],
   "source": [
    "experience"
   ]
  },
  {
   "cell_type": "code",
   "execution_count": 90,
   "id": "7e53c535",
   "metadata": {},
   "outputs": [
    {
     "data": {
      "text/html": [
       "<div>\n",
       "<style scoped>\n",
       "    .dataframe tbody tr th:only-of-type {\n",
       "        vertical-align: middle;\n",
       "    }\n",
       "\n",
       "    .dataframe tbody tr th {\n",
       "        vertical-align: top;\n",
       "    }\n",
       "\n",
       "    .dataframe thead th {\n",
       "        text-align: right;\n",
       "    }\n",
       "</style>\n",
       "<table border=\"1\" class=\"dataframe\">\n",
       "  <thead>\n",
       "    <tr style=\"text-align: right;\">\n",
       "      <th></th>\n",
       "      <th>Company Name</th>\n",
       "      <th>Total Salary Record</th>\n",
       "      <th>Average Salary</th>\n",
       "      <th>Minimum Salary</th>\n",
       "      <th>Maximum Salary</th>\n",
       "      <th>Experience</th>\n",
       "    </tr>\n",
       "  </thead>\n",
       "  <tbody>\n",
       "    <tr>\n",
       "      <th>0</th>\n",
       "      <td>Walmart</td>\n",
       "      <td>10 salaries</td>\n",
       "      <td>₹ 28.7L</td>\n",
       "      <td>₹ 17.7L</td>\n",
       "      <td>₹ 35.0L</td>\n",
       "      <td>3 yrs</td>\n",
       "    </tr>\n",
       "    <tr>\n",
       "      <th>1</th>\n",
       "      <td>Ab Inbev</td>\n",
       "      <td>25 salaries</td>\n",
       "      <td>₹ 20.2L</td>\n",
       "      <td>₹ 15.0L</td>\n",
       "      <td>₹ 25.5L</td>\n",
       "      <td>3-4 yrs</td>\n",
       "    </tr>\n",
       "    <tr>\n",
       "      <th>2</th>\n",
       "      <td>ZS</td>\n",
       "      <td>13 salaries</td>\n",
       "      <td>₹ 15.5L</td>\n",
       "      <td>₹ 9.8L</td>\n",
       "      <td>₹ 20.0L</td>\n",
       "      <td>2 yrs</td>\n",
       "    </tr>\n",
       "    <tr>\n",
       "      <th>3</th>\n",
       "      <td>Optum</td>\n",
       "      <td>25 salaries</td>\n",
       "      <td>₹ 15.1L</td>\n",
       "      <td>₹ 11.0L</td>\n",
       "      <td>₹ 21.3L</td>\n",
       "      <td>3-4 yrs</td>\n",
       "    </tr>\n",
       "    <tr>\n",
       "      <th>4</th>\n",
       "      <td>Fractal Analytics</td>\n",
       "      <td>75 salaries</td>\n",
       "      <td>₹ 15.1L</td>\n",
       "      <td>₹ 9.5L</td>\n",
       "      <td>₹ 22.0L</td>\n",
       "      <td>2-4 yrs</td>\n",
       "    </tr>\n",
       "    <tr>\n",
       "      <th>5</th>\n",
       "      <td>Tiger Analytics</td>\n",
       "      <td>30 salaries</td>\n",
       "      <td>₹ 14.2L</td>\n",
       "      <td>₹ 9.0L</td>\n",
       "      <td>₹ 18.5L</td>\n",
       "      <td>3-4 yrs</td>\n",
       "    </tr>\n",
       "    <tr>\n",
       "      <th>6</th>\n",
       "      <td>UnitedHealth</td>\n",
       "      <td>51 salaries</td>\n",
       "      <td>₹ 13.8L</td>\n",
       "      <td>₹ 8.3L</td>\n",
       "      <td>₹ 20.5L</td>\n",
       "      <td>2-4 yrs</td>\n",
       "    </tr>\n",
       "    <tr>\n",
       "      <th>7</th>\n",
       "      <td>Verizon</td>\n",
       "      <td>14 salaries</td>\n",
       "      <td>₹ 12.7L</td>\n",
       "      <td>₹ 10.0L</td>\n",
       "      <td>₹ 21.0L</td>\n",
       "      <td>4 yrs</td>\n",
       "    </tr>\n",
       "    <tr>\n",
       "      <th>8</th>\n",
       "      <td>Ganit Business Solutions</td>\n",
       "      <td>13 salaries</td>\n",
       "      <td>₹ 12.4L</td>\n",
       "      <td>₹ 8.5L</td>\n",
       "      <td>₹ 15.0L</td>\n",
       "      <td>4 yrs</td>\n",
       "    </tr>\n",
       "    <tr>\n",
       "      <th>9</th>\n",
       "      <td>Ericsson</td>\n",
       "      <td>43 salaries</td>\n",
       "      <td>₹ 11.9L</td>\n",
       "      <td>₹ 5.8L</td>\n",
       "      <td>₹ 24.0L</td>\n",
       "      <td>3-4 yrs</td>\n",
       "    </tr>\n",
       "  </tbody>\n",
       "</table>\n",
       "</div>"
      ],
      "text/plain": [
       "               Company Name Total Salary Record Average Salary Minimum Salary  \\\n",
       "0                   Walmart         10 salaries        ₹ 28.7L        ₹ 17.7L   \n",
       "1                  Ab Inbev         25 salaries        ₹ 20.2L        ₹ 15.0L   \n",
       "2                        ZS         13 salaries        ₹ 15.5L         ₹ 9.8L   \n",
       "3                     Optum         25 salaries        ₹ 15.1L        ₹ 11.0L   \n",
       "4         Fractal Analytics         75 salaries        ₹ 15.1L         ₹ 9.5L   \n",
       "5           Tiger Analytics         30 salaries        ₹ 14.2L         ₹ 9.0L   \n",
       "6              UnitedHealth         51 salaries        ₹ 13.8L         ₹ 8.3L   \n",
       "7                   Verizon         14 salaries        ₹ 12.7L        ₹ 10.0L   \n",
       "8  Ganit Business Solutions         13 salaries        ₹ 12.4L         ₹ 8.5L   \n",
       "9                  Ericsson         43 salaries        ₹ 11.9L         ₹ 5.8L   \n",
       "\n",
       "  Maximum Salary Experience  \n",
       "0        ₹ 35.0L     3 yrs   \n",
       "1        ₹ 25.5L   3-4 yrs   \n",
       "2        ₹ 20.0L     2 yrs   \n",
       "3        ₹ 21.3L   3-4 yrs   \n",
       "4        ₹ 22.0L   2-4 yrs   \n",
       "5        ₹ 18.5L   3-4 yrs   \n",
       "6        ₹ 20.5L   2-4 yrs   \n",
       "7        ₹ 21.0L     4 yrs   \n",
       "8        ₹ 15.0L     4 yrs   \n",
       "9        ₹ 24.0L   3-4 yrs   "
      ]
     },
     "execution_count": 90,
     "metadata": {},
     "output_type": "execute_result"
    }
   ],
   "source": [
    "#creating DataFrame\n",
    "jobs=pd.DataFrame({})\n",
    "jobs['Company Name']=company_name\n",
    "jobs['Total Salary Record']=total_salary_record\n",
    "jobs['Average Salary']=average_salary\n",
    "jobs['Minimum Salary']=minimum_salary\n",
    "jobs['Maximum Salary']=maximum_salary\n",
    "jobs['Experience']=experience\n",
    "jobs"
   ]
  },
  {
   "cell_type": "code",
   "execution_count": null,
   "id": "b06bbd41",
   "metadata": {},
   "outputs": [],
   "source": []
  }
 ],
 "metadata": {
  "kernelspec": {
   "display_name": "Python 3",
   "language": "python",
   "name": "python3"
  },
  "language_info": {
   "codemirror_mode": {
    "name": "ipython",
    "version": 3
   },
   "file_extension": ".py",
   "mimetype": "text/x-python",
   "name": "python",
   "nbconvert_exporter": "python",
   "pygments_lexer": "ipython3",
   "version": "3.8.8"
  }
 },
 "nbformat": 4,
 "nbformat_minor": 5
}
